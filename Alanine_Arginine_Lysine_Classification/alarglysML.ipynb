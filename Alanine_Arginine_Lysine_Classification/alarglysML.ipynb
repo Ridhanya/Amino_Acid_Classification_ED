{
 "cells": [
  {
   "cell_type": "code",
   "execution_count": null,
   "id": "86170217",
   "metadata": {},
   "outputs": [],
   "source": [
    "#importing libraries\n",
    "import pandas as pd\n",
    "import os\n",
    "import numpy as np\n",
    "from sklearn.metrics import accuracy_score\n",
    "import matplotlib.pyplot as plt\n",
    "import tensorflow as tf\n",
    "from tensorflow.keras import Sequential\n",
    "from tensorflow.keras.layers import Dense\n",
    "from keras.layers import Dense, Conv1D, Flatten, Dropout\n",
    "from tensorflow.keras.optimizers import Adam\n",
    "from sklearn.model_selection import StratifiedKFold\n",
    "from keras.backend import dropout\n",
    "import keras\n",
    "import random\n",
    "from sklearn.model_selection import train_test_split\n",
    "from tensorflow.keras import regularizers"
   ]
  },
  {
   "cell_type": "code",
   "execution_count": null,
   "id": "bc998188",
   "metadata": {},
   "outputs": [],
   "source": [
    "# Set a seed value\n",
    "seed_value= 3\n",
    "\n",
    "# 1. Set `PYTHONHASHSEED` environment variable at a fixed value\n",
    "os.environ['PYTHONHASHSEED']=str(seed_value)\n",
    "\n",
    "# 2. Set `python` built-in pseudo-random generator at a fixed value\n",
    "random.seed(seed_value)\n",
    "\n",
    "# 3. Set `numpy` pseudo-random generator at a fixed value\n",
    "np.random.seed(seed_value)\n",
    "\n",
    "# 4. Set `tensorflow` pseudo-random generator at a fixed value\n",
    "tf.random.set_seed(seed_value)\n",
    "\n",
    "tf.keras.utils.set_random_seed(seed_value)\n",
    "\n",
    "# 5. For layers that introduce randomness like dropout, make sure to set seed values \n",
    "# model.add(Dropout(0.25, seed=seed_value))"
   ]
  },
  {
   "cell_type": "code",
   "execution_count": null,
   "id": "fcaa9906",
   "metadata": {},
   "outputs": [],
   "source": [
    "#import relevant datasets\n",
    "X_train = pd.read_csv(\"finalXtrain.csv\")\n",
    "y_train = pd.read_csv(\"finalYtrain.csv\")\n",
    "X_test = pd.read_csv(\"finalXtest.csv\")\n",
    "y_test = pd.read_csv(\"finalYtest.csv\")\n",
    "X_val = pd.read_csv(\"finalXval.csv\")\n",
    "y_val = pd.read_csv(\"finalYval.csv\")"
   ]
  },
  {
   "cell_type": "code",
   "execution_count": null,
   "id": "c978f846",
   "metadata": {},
   "outputs": [],
   "source": [
    "#check shape\n",
    "print(X_train.shape)\n",
    "print(y_train.shape)\n",
    "print(X_test.shape)\n",
    "print(y_test.shape)\n",
    "print(X_val.shape)\n",
    "print(y_val.shape)"
   ]
  },
  {
   "cell_type": "code",
   "execution_count": null,
   "id": "0066d804",
   "metadata": {},
   "outputs": [],
   "source": [
    "#build model\n",
    "\n",
    "def define_model(seedval):\n",
    "    inputs = tf.keras.Input(shape=(72, 1), name='input')\n",
    "    x = Conv1D(filters=15, kernel_size=3,strides =3)(inputs)\n",
    "    x = tf.keras.layers.BatchNormalization()(x)\n",
    "    x = tf.keras.layers.Activation(tf.keras.activations.relu)(x)\n",
    "    x = tf.keras.layers.MaxPooling1D(2)(x)\n",
    "    x = Conv1D(filters=30, kernel_size=5,strides =2)(x)\n",
    "    x = tf.keras.layers.BatchNormalization()(x)\n",
    "    x = tf.keras.layers.Activation(tf.keras.activations.relu)(x)\n",
    "    x = tf.keras.layers.MaxPooling1D(2)(x)\n",
    "    x = Flatten()(x)\n",
    "    x = Dropout(0.5,seed=seedval)(x)\n",
    "    x = Dense(20,activation ='relu')(x)\n",
    "    x = Dense(10,activation ='relu')(x)\n",
    "    x = Dense(5,activation ='relu')(x)\n",
    "    outputs = Dense(3, activation='softmax', name='predictions')(x)\n",
    "    cnn_model = tf.keras.Model(inputs=inputs, outputs=outputs)\n",
    "    cnn_model.compile(loss='categorical_crossentropy', optimizer= Adam(), metrics=['accuracy'])\n",
    "    return cnn_model"
   ]
  },
  {
   "cell_type": "code",
   "execution_count": null,
   "id": "dc3ef548",
   "metadata": {},
   "outputs": [],
   "source": [
    "#earlystopping\n",
    "es = tf.keras.callbacks.EarlyStopping(monitor='val_accuracy', mode='max', verbose=1, patience=100)\n",
    "checkpoint_path = 'alarglysclassweights_march3spring24.h5'\n",
    "model_checkpoint = tf.keras.callbacks.ModelCheckpoint(checkpoint_path,\n",
    "                                   monitor='val_accuracy',\n",
    "                                   save_best_only=True,\n",
    "                                   mode='max',\n",
    "                                   verbose=1)"
   ]
  },
  {
   "cell_type": "code",
   "execution_count": null,
   "id": "9ea70f63",
   "metadata": {},
   "outputs": [],
   "source": [
    "model = define_model(seed_value)\n",
    "print(model.summary())"
   ]
  },
  {
   "cell_type": "code",
   "execution_count": null,
   "id": "783b0079",
   "metadata": {},
   "outputs": [],
   "source": [
    "\n",
    "history = model.fit(X_train, y_train,\n",
    "              batch_size=5,\n",
    "              verbose=1,\n",
    "              epochs=400,\n",
    "              validation_data = (X_val,y_val), \n",
    "              callbacks = [es,model_checkpoint]\n",
    "                    ,class_weight = {0:2.4,1:2.23,2:7.37}\n",
    "                   )"
   ]
  },
  {
   "cell_type": "code",
   "execution_count": null,
   "id": "5828eaaa",
   "metadata": {},
   "outputs": [],
   "source": [
    "model1 = tf.keras.models.load_model('alarglysclassweights_march3spring24.h5')\n",
    "model1.evaluate(X_test,y_test)"
   ]
  },
  {
   "cell_type": "code",
   "execution_count": null,
   "id": "438c666c",
   "metadata": {},
   "outputs": [],
   "source": [
    "y=model1.predict(X_test)"
   ]
  },
  {
   "cell_type": "code",
   "execution_count": null,
   "id": "a4b08305",
   "metadata": {},
   "outputs": [],
   "source": [
    "#class-wise accuracy\n",
    "from sklearn.metrics import confusion_matrix\n",
    "matrix = confusion_matrix(y_test.to_numpy().argmax(axis=1), y.argmax(axis=1))\n",
    "matrix.diagonal()/matrix.sum(axis=1)"
   ]
  },
  {
   "cell_type": "code",
   "execution_count": null,
   "id": "7ac6855e",
   "metadata": {},
   "outputs": [],
   "source": []
  }
 ],
 "metadata": {
  "kernelspec": {
   "display_name": "Python [conda env:ridhanya-yolo] *",
   "language": "python",
   "name": "conda-env-ridhanya-yolo-py"
  },
  "language_info": {
   "codemirror_mode": {
    "name": "ipython",
    "version": 3
   },
   "file_extension": ".py",
   "mimetype": "text/x-python",
   "name": "python",
   "nbconvert_exporter": "python",
   "pygments_lexer": "ipython3",
   "version": "3.10.6"
  }
 },
 "nbformat": 4,
 "nbformat_minor": 5
}
