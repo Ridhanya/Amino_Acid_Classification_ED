{
 "cells": [
  {
   "cell_type": "code",
   "execution_count": 1,
   "id": "03a461d1",
   "metadata": {},
   "outputs": [
    {
     "name": "stderr",
     "output_type": "stream",
     "text": [
      "2024-03-03 19:14:36.558358: I tensorflow/core/platform/cpu_feature_guard.cc:193] This TensorFlow binary is optimized with oneAPI Deep Neural Network Library (oneDNN) to use the following CPU instructions in performance-critical operations:  AVX2 FMA\n",
      "To enable them in other operations, rebuild TensorFlow with the appropriate compiler flags.\n",
      "2024-03-03 19:14:37.159097: W tensorflow/compiler/xla/stream_executor/platform/default/dso_loader.cc:64] Could not load dynamic library 'libnvinfer.so.7'; dlerror: libnvinfer.so.7: cannot open shared object file: No such file or directory\n",
      "2024-03-03 19:14:37.159146: W tensorflow/compiler/xla/stream_executor/platform/default/dso_loader.cc:64] Could not load dynamic library 'libnvinfer_plugin.so.7'; dlerror: libnvinfer_plugin.so.7: cannot open shared object file: No such file or directory\n",
      "2024-03-03 19:14:37.159152: W tensorflow/compiler/tf2tensorrt/utils/py_utils.cc:38] TF-TRT Warning: Cannot dlopen some TensorRT libraries. If you would like to use Nvidia GPU with TensorRT, please make sure the missing libraries mentioned above are installed properly.\n"
     ]
    }
   ],
   "source": [
    "#importing libraries\n",
    "import pandas as pd\n",
    "import os\n",
    "import numpy as np\n",
    "from sklearn.metrics import accuracy_score\n",
    "import matplotlib.pyplot as plt\n",
    "import tensorflow as tf\n",
    "from tensorflow.keras import Sequential\n",
    "from tensorflow.keras.layers import Dense\n",
    "from keras.layers import Dense, Conv1D, Flatten, Dropout\n",
    "from tensorflow.keras.optimizers import Adam\n",
    "from sklearn.model_selection import StratifiedKFold\n",
    "from keras.backend import dropout\n",
    "import keras\n",
    "import random\n",
    "from sklearn.model_selection import train_test_split"
   ]
  },
  {
   "cell_type": "code",
   "execution_count": 2,
   "id": "543bfe71",
   "metadata": {},
   "outputs": [],
   "source": [
    "# Set a seed value\n",
    "seed_value= 1\n",
    "\n",
    "# 1. Set `PYTHONHASHSEED` environment variable at a fixed value\n",
    "os.environ['PYTHONHASHSEED']=str(seed_value)\n",
    "\n",
    "# 2. Set `python` built-in pseudo-random generator at a fixed value\n",
    "random.seed(seed_value)\n",
    "\n",
    "# 3. Set `numpy` pseudo-random generator at a fixed value\n",
    "np.random.seed(seed_value)\n",
    "\n",
    "# 4. Set `tensorflow` pseudo-random generator at a fixed value\n",
    "tf.random.set_seed(seed_value)\n",
    "\n",
    "# 5. For layers that introduce randomness like dropout, make sure to set seed values \n",
    "# model.add(Dropout(0.25, seed=seed_value))"
   ]
  },
  {
   "cell_type": "code",
   "execution_count": 3,
   "id": "7a4ca553",
   "metadata": {},
   "outputs": [
    {
     "data": {
      "text/html": [
       "<div>\n",
       "<style scoped>\n",
       "    .dataframe tbody tr th:only-of-type {\n",
       "        vertical-align: middle;\n",
       "    }\n",
       "\n",
       "    .dataframe tbody tr th {\n",
       "        vertical-align: top;\n",
       "    }\n",
       "\n",
       "    .dataframe thead th {\n",
       "        text-align: right;\n",
       "    }\n",
       "</style>\n",
       "<table border=\"1\" class=\"dataframe\">\n",
       "  <thead>\n",
       "    <tr style=\"text-align: right;\">\n",
       "      <th></th>\n",
       "      <th>0</th>\n",
       "      <th>1</th>\n",
       "      <th>2</th>\n",
       "      <th>3</th>\n",
       "      <th>4</th>\n",
       "      <th>5</th>\n",
       "      <th>6</th>\n",
       "      <th>7</th>\n",
       "      <th>8</th>\n",
       "      <th>9</th>\n",
       "      <th>...</th>\n",
       "      <th>65</th>\n",
       "      <th>66</th>\n",
       "      <th>67</th>\n",
       "      <th>68</th>\n",
       "      <th>69</th>\n",
       "      <th>70</th>\n",
       "      <th>71</th>\n",
       "      <th>labels</th>\n",
       "      <th>file</th>\n",
       "      <th>corrp</th>\n",
       "    </tr>\n",
       "  </thead>\n",
       "  <tbody>\n",
       "    <tr>\n",
       "      <th>0</th>\n",
       "      <td>0.774108</td>\n",
       "      <td>0.919357</td>\n",
       "      <td>0.943766</td>\n",
       "      <td>0.920860</td>\n",
       "      <td>1.193478</td>\n",
       "      <td>1.149284</td>\n",
       "      <td>1.162065</td>\n",
       "      <td>1.232092</td>\n",
       "      <td>1.166252</td>\n",
       "      <td>0.731095</td>\n",
       "      <td>...</td>\n",
       "      <td>0.936681</td>\n",
       "      <td>1.392661</td>\n",
       "      <td>1.002584</td>\n",
       "      <td>0.920197</td>\n",
       "      <td>0.751228</td>\n",
       "      <td>1.308816</td>\n",
       "      <td>0.774108</td>\n",
       "      <td>L_Proline</td>\n",
       "      <td>old</td>\n",
       "      <td>0.591285</td>\n",
       "    </tr>\n",
       "    <tr>\n",
       "      <th>1</th>\n",
       "      <td>0.880882</td>\n",
       "      <td>1.195535</td>\n",
       "      <td>0.732952</td>\n",
       "      <td>0.742090</td>\n",
       "      <td>1.030170</td>\n",
       "      <td>0.905313</td>\n",
       "      <td>0.205019</td>\n",
       "      <td>0.502117</td>\n",
       "      <td>0.729721</td>\n",
       "      <td>0.635706</td>\n",
       "      <td>...</td>\n",
       "      <td>1.498847</td>\n",
       "      <td>0.985292</td>\n",
       "      <td>1.183907</td>\n",
       "      <td>1.024907</td>\n",
       "      <td>0.624169</td>\n",
       "      <td>0.668094</td>\n",
       "      <td>0.880882</td>\n",
       "      <td>L_Proline</td>\n",
       "      <td>old</td>\n",
       "      <td>0.623700</td>\n",
       "    </tr>\n",
       "    <tr>\n",
       "      <th>2</th>\n",
       "      <td>0.729527</td>\n",
       "      <td>0.560786</td>\n",
       "      <td>0.484011</td>\n",
       "      <td>0.132320</td>\n",
       "      <td>-0.009412</td>\n",
       "      <td>-0.086486</td>\n",
       "      <td>0.293669</td>\n",
       "      <td>0.645147</td>\n",
       "      <td>0.783205</td>\n",
       "      <td>0.615831</td>\n",
       "      <td>...</td>\n",
       "      <td>0.512428</td>\n",
       "      <td>0.768863</td>\n",
       "      <td>1.362439</td>\n",
       "      <td>0.063642</td>\n",
       "      <td>1.278079</td>\n",
       "      <td>0.628093</td>\n",
       "      <td>0.729527</td>\n",
       "      <td>L_Proline</td>\n",
       "      <td>feb7</td>\n",
       "      <td>0.706182</td>\n",
       "    </tr>\n",
       "    <tr>\n",
       "      <th>3</th>\n",
       "      <td>1.005560</td>\n",
       "      <td>0.992360</td>\n",
       "      <td>1.226905</td>\n",
       "      <td>1.010713</td>\n",
       "      <td>0.830727</td>\n",
       "      <td>1.338801</td>\n",
       "      <td>1.120361</td>\n",
       "      <td>1.251085</td>\n",
       "      <td>1.330762</td>\n",
       "      <td>1.497992</td>\n",
       "      <td>...</td>\n",
       "      <td>0.969992</td>\n",
       "      <td>0.666996</td>\n",
       "      <td>0.842621</td>\n",
       "      <td>1.182710</td>\n",
       "      <td>1.215611</td>\n",
       "      <td>0.555655</td>\n",
       "      <td>1.005560</td>\n",
       "      <td>L_Proline</td>\n",
       "      <td>old</td>\n",
       "      <td>0.724608</td>\n",
       "    </tr>\n",
       "    <tr>\n",
       "      <th>4</th>\n",
       "      <td>0.707358</td>\n",
       "      <td>0.352809</td>\n",
       "      <td>1.601028</td>\n",
       "      <td>1.155652</td>\n",
       "      <td>0.424100</td>\n",
       "      <td>0.200836</td>\n",
       "      <td>0.778570</td>\n",
       "      <td>1.881039</td>\n",
       "      <td>1.040818</td>\n",
       "      <td>2.237565</td>\n",
       "      <td>...</td>\n",
       "      <td>0.093458</td>\n",
       "      <td>-0.049846</td>\n",
       "      <td>0.126802</td>\n",
       "      <td>0.239680</td>\n",
       "      <td>0.219804</td>\n",
       "      <td>0.618857</td>\n",
       "      <td>0.707358</td>\n",
       "      <td>L_Proline</td>\n",
       "      <td>feb7</td>\n",
       "      <td>0.727631</td>\n",
       "    </tr>\n",
       "  </tbody>\n",
       "</table>\n",
       "<p>5 rows × 75 columns</p>\n",
       "</div>"
      ],
      "text/plain": [
       "          0         1         2         3         4         5         6  \\\n",
       "0  0.774108  0.919357  0.943766  0.920860  1.193478  1.149284  1.162065   \n",
       "1  0.880882  1.195535  0.732952  0.742090  1.030170  0.905313  0.205019   \n",
       "2  0.729527  0.560786  0.484011  0.132320 -0.009412 -0.086486  0.293669   \n",
       "3  1.005560  0.992360  1.226905  1.010713  0.830727  1.338801  1.120361   \n",
       "4  0.707358  0.352809  1.601028  1.155652  0.424100  0.200836  0.778570   \n",
       "\n",
       "          7         8         9  ...        65        66        67        68  \\\n",
       "0  1.232092  1.166252  0.731095  ...  0.936681  1.392661  1.002584  0.920197   \n",
       "1  0.502117  0.729721  0.635706  ...  1.498847  0.985292  1.183907  1.024907   \n",
       "2  0.645147  0.783205  0.615831  ...  0.512428  0.768863  1.362439  0.063642   \n",
       "3  1.251085  1.330762  1.497992  ...  0.969992  0.666996  0.842621  1.182710   \n",
       "4  1.881039  1.040818  2.237565  ...  0.093458 -0.049846  0.126802  0.239680   \n",
       "\n",
       "         69        70        71     labels  file     corrp  \n",
       "0  0.751228  1.308816  0.774108  L_Proline   old  0.591285  \n",
       "1  0.624169  0.668094  0.880882  L_Proline   old  0.623700  \n",
       "2  1.278079  0.628093  0.729527  L_Proline  feb7  0.706182  \n",
       "3  1.215611  0.555655  1.005560  L_Proline   old  0.724608  \n",
       "4  0.219804  0.618857  0.707358  L_Proline  feb7  0.727631  \n",
       "\n",
       "[5 rows x 75 columns]"
      ]
     },
     "execution_count": 3,
     "metadata": {},
     "output_type": "execute_result"
    }
   ],
   "source": [
    "#import dataset\n",
    "df_original = pd.read_csv(\"may3fulllinearrankedfiltered.csv\")\n",
    "df_original.head()"
   ]
  },
  {
   "cell_type": "code",
   "execution_count": 4,
   "id": "f6fe392c",
   "metadata": {},
   "outputs": [
    {
     "data": {
      "text/plain": [
       "(316, 75)"
      ]
     },
     "execution_count": 4,
     "metadata": {},
     "output_type": "execute_result"
    }
   ],
   "source": [
    "df_original = df_original[df_original[\"labels\"].isin([\"L_Alanine\",\"L_Arginine\",\"L_Lysine\"])]\n",
    "df_original.shape"
   ]
  },
  {
   "cell_type": "code",
   "execution_count": 5,
   "id": "e9ad20b9",
   "metadata": {},
   "outputs": [
    {
     "data": {
      "text/plain": [
       "labels\n",
       "L_Alanine     132\n",
       "L_Arginine    142\n",
       "L_Lysine       42\n",
       "dtype: int64"
      ]
     },
     "execution_count": 5,
     "metadata": {},
     "output_type": "execute_result"
    }
   ],
   "source": [
    "df_original.groupby(['labels']).size()"
   ]
  },
  {
   "cell_type": "code",
   "execution_count": 6,
   "id": "2d49ccfe",
   "metadata": {},
   "outputs": [
    {
     "data": {
      "text/plain": [
       "(316, 73)"
      ]
     },
     "execution_count": 6,
     "metadata": {},
     "output_type": "execute_result"
    }
   ],
   "source": [
    "#drop unnecssary columns\n",
    "df_original = df_original.drop(['file','corrp'],axis=1)\n",
    "df_original.shape"
   ]
  },
  {
   "cell_type": "code",
   "execution_count": 7,
   "id": "2bddd465",
   "metadata": {},
   "outputs": [],
   "source": [
    "#stratify split the dataframe into train, test and val\n",
    "\n",
    "#split 80 percent for train and 20 percent for test and val\n",
    "train, testval = train_test_split(df_original, test_size=0.3, random_state=42, stratify=df_original['labels'])\n",
    "\n",
    "#split test and val\n",
    "test, val = train_test_split(testval, test_size=0.5, random_state=42, stratify=testval['labels'])"
   ]
  },
  {
   "cell_type": "code",
   "execution_count": 8,
   "id": "14a9a227",
   "metadata": {},
   "outputs": [
    {
     "name": "stdout",
     "output_type": "stream",
     "text": [
      "(221, 73)\n",
      "(47, 73)\n",
      "(48, 73)\n"
     ]
    }
   ],
   "source": [
    "#check the shapes\n",
    "print(train.shape)\n",
    "print(test.shape)\n",
    "print(val.shape)"
   ]
  },
  {
   "cell_type": "code",
   "execution_count": 9,
   "id": "7138dc5a",
   "metadata": {},
   "outputs": [],
   "source": [
    "#save them\n",
    "train.to_csv(\"trainsplitfinal.csv\",index=False)\n",
    "test.to_csv(\"testsplitfinal.csv\",index=False)\n",
    "val.to_csv(\"valsplitfinal.csv\",index=False)"
   ]
  },
  {
   "cell_type": "code",
   "execution_count": null,
   "id": "05f9f7c6",
   "metadata": {},
   "outputs": [],
   "source": []
  }
 ],
 "metadata": {
  "kernelspec": {
   "display_name": "Python [conda env:ridhanya-yolo] *",
   "language": "python",
   "name": "conda-env-ridhanya-yolo-py"
  },
  "language_info": {
   "codemirror_mode": {
    "name": "ipython",
    "version": 3
   },
   "file_extension": ".py",
   "mimetype": "text/x-python",
   "name": "python",
   "nbconvert_exporter": "python",
   "pygments_lexer": "ipython3",
   "version": "3.10.6"
  }
 },
 "nbformat": 4,
 "nbformat_minor": 5
}
