{
 "cells": [
  {
   "cell_type": "code",
   "execution_count": 1,
   "id": "86170217",
   "metadata": {},
   "outputs": [
    {
     "name": "stderr",
     "output_type": "stream",
     "text": [
      "2024-08-04 18:56:29.010972: I tensorflow/core/platform/cpu_feature_guard.cc:193] This TensorFlow binary is optimized with oneAPI Deep Neural Network Library (oneDNN) to use the following CPU instructions in performance-critical operations:  AVX2 FMA\n",
      "To enable them in other operations, rebuild TensorFlow with the appropriate compiler flags.\n",
      "2024-08-04 18:56:29.648681: W tensorflow/compiler/xla/stream_executor/platform/default/dso_loader.cc:64] Could not load dynamic library 'libnvinfer.so.7'; dlerror: libnvinfer.so.7: cannot open shared object file: No such file or directory\n",
      "2024-08-04 18:56:29.648776: W tensorflow/compiler/xla/stream_executor/platform/default/dso_loader.cc:64] Could not load dynamic library 'libnvinfer_plugin.so.7'; dlerror: libnvinfer_plugin.so.7: cannot open shared object file: No such file or directory\n",
      "2024-08-04 18:56:29.648782: W tensorflow/compiler/tf2tensorrt/utils/py_utils.cc:38] TF-TRT Warning: Cannot dlopen some TensorRT libraries. If you would like to use Nvidia GPU with TensorRT, please make sure the missing libraries mentioned above are installed properly.\n"
     ]
    }
   ],
   "source": [
    "#importing libraries\n",
    "import pandas as pd\n",
    "import os\n",
    "import numpy as np\n",
    "from sklearn.metrics import accuracy_score\n",
    "import matplotlib.pyplot as plt\n",
    "import tensorflow as tf\n",
    "from tensorflow.keras import Sequential\n",
    "from tensorflow.keras.layers import Dense\n",
    "from keras.layers import Dense, Conv1D, Flatten, Dropout\n",
    "from tensorflow.keras.optimizers import Adam\n",
    "from sklearn.model_selection import StratifiedKFold\n",
    "from keras.backend import dropout\n",
    "import keras\n",
    "import random\n",
    "from sklearn.model_selection import train_test_split\n",
    "from tensorflow.keras import regularizers"
   ]
  },
  {
   "cell_type": "code",
   "execution_count": 2,
   "id": "bc998188",
   "metadata": {},
   "outputs": [],
   "source": [
    "# Set a seed value\n",
    "seed_value= 3\n",
    "\n",
    "# 1. Set `PYTHONHASHSEED` environment variable at a fixed value\n",
    "os.environ['PYTHONHASHSEED']=str(seed_value)\n",
    "\n",
    "# 2. Set `python` built-in pseudo-random generator at a fixed value\n",
    "random.seed(seed_value)\n",
    "\n",
    "# 3. Set `numpy` pseudo-random generator at a fixed value\n",
    "np.random.seed(seed_value)\n",
    "\n",
    "# 4. Set `tensorflow` pseudo-random generator at a fixed value\n",
    "tf.random.set_seed(seed_value)\n",
    "\n",
    "tf.keras.utils.set_random_seed(seed_value)\n",
    "\n",
    "# 5. For layers that introduce randomness like dropout, make sure to set seed values \n",
    "# model.add(Dropout(0.25, seed=seed_value))"
   ]
  },
  {
   "cell_type": "code",
   "execution_count": 3,
   "id": "fcaa9906",
   "metadata": {},
   "outputs": [],
   "source": [
    "#import relevant datasets\n",
    "X_train = pd.read_csv(\"finalXtrain.csv\")\n",
    "y_train = pd.read_csv(\"finalYtrain.csv\")\n",
    "X_test = pd.read_csv(\"finalXtest.csv\")\n",
    "y_test = pd.read_csv(\"finalYtest.csv\")\n",
    "X_val = pd.read_csv(\"finalXval.csv\")\n",
    "y_val = pd.read_csv(\"finalYval.csv\")"
   ]
  },
  {
   "cell_type": "code",
   "execution_count": 4,
   "id": "c978f846",
   "metadata": {},
   "outputs": [
    {
     "name": "stdout",
     "output_type": "stream",
     "text": [
      "(439, 72)\n",
      "(439, 17)\n",
      "(94, 72)\n",
      "(94, 17)\n",
      "(95, 72)\n",
      "(95, 17)\n"
     ]
    }
   ],
   "source": [
    "#check shape\n",
    "print(X_train.shape)\n",
    "print(y_train.shape)\n",
    "print(X_test.shape)\n",
    "print(y_test.shape)\n",
    "print(X_val.shape)\n",
    "print(y_val.shape)"
   ]
  },
  {
   "cell_type": "code",
   "execution_count": 5,
   "id": "0066d804",
   "metadata": {},
   "outputs": [],
   "source": [
    "#build model\n",
    "\n",
    "def define_model(seedval):\n",
    "    inputs = tf.keras.Input(shape=(72, 1), name='input')\n",
    "    x = Conv1D(filters=5, kernel_size=3,strides =3)(inputs)\n",
    "    x = tf.keras.layers.BatchNormalization()(x)\n",
    "    x = tf.keras.layers.Activation(tf.keras.activations.relu)(x)\n",
    "    x = tf.keras.layers.MaxPooling1D(2)(x)\n",
    "    x = Conv1D(filters=45, kernel_size=5,strides =2)(x)\n",
    "    x = tf.keras.layers.BatchNormalization()(x)\n",
    "    x = tf.keras.layers.Activation(tf.keras.activations.relu)(x)\n",
    "    x = tf.keras.layers.MaxPooling1D(2)(x)\n",
    "    x = Flatten()(x)\n",
    "    x = Dropout(0.5,seed=seedval)(x)\n",
    "    x = Dense(20,activation ='relu')(x)\n",
    "#     x = Dropout(0.5,seed=seedval)(x)\n",
    "#     x = Dense(10,activation ='relu')(x)\n",
    "#     x = Dense(5,activation ='relu')(x)\n",
    "    outputs = Dense(17, activation='softmax', name='predictions')(x)\n",
    "    cnn_model = tf.keras.Model(inputs=inputs, outputs=outputs)\n",
    "    cnn_model.compile(loss='categorical_crossentropy', optimizer= Adam(), metrics=['accuracy'])\n",
    "    return cnn_model"
   ]
  },
  {
   "cell_type": "code",
   "execution_count": 6,
   "id": "dc3ef548",
   "metadata": {},
   "outputs": [],
   "source": [
    "#earlystopping\n",
    "es = tf.keras.callbacks.EarlyStopping(monitor='val_accuracy', mode='max', verbose=1, patience=50)\n",
    "checkpoint_path = 'allamino_model3forpaper.h5'\n",
    "model_checkpoint = tf.keras.callbacks.ModelCheckpoint(checkpoint_path,\n",
    "                                   monitor='val_accuracy',\n",
    "                                   save_best_only=True,\n",
    "                                   mode='max',\n",
    "                                   verbose=1)"
   ]
  },
  {
   "cell_type": "code",
   "execution_count": 7,
   "id": "9ea70f63",
   "metadata": {},
   "outputs": [
    {
     "name": "stdout",
     "output_type": "stream",
     "text": [
      "Model: \"model\"\n",
      "_________________________________________________________________\n",
      " Layer (type)                Output Shape              Param #   \n",
      "=================================================================\n",
      " input (InputLayer)          [(None, 72, 1)]           0         \n",
      "                                                                 \n",
      " conv1d (Conv1D)             (None, 24, 5)             20        \n",
      "                                                                 \n",
      " batch_normalization (BatchN  (None, 24, 5)            20        \n",
      " ormalization)                                                   \n",
      "                                                                 \n",
      " activation (Activation)     (None, 24, 5)             0         \n",
      "                                                                 \n",
      " max_pooling1d (MaxPooling1D  (None, 12, 5)            0         \n",
      " )                                                               \n",
      "                                                                 \n",
      " conv1d_1 (Conv1D)           (None, 4, 45)             1170      \n",
      "                                                                 \n",
      " batch_normalization_1 (Batc  (None, 4, 45)            180       \n",
      " hNormalization)                                                 \n",
      "                                                                 \n",
      " activation_1 (Activation)   (None, 4, 45)             0         \n",
      "                                                                 \n",
      " max_pooling1d_1 (MaxPooling  (None, 2, 45)            0         \n",
      " 1D)                                                             \n",
      "                                                                 \n",
      " flatten (Flatten)           (None, 90)                0         \n",
      "                                                                 \n",
      " dropout (Dropout)           (None, 90)                0         \n",
      "                                                                 \n",
      " dense (Dense)               (None, 20)                1820      \n",
      "                                                                 \n",
      " predictions (Dense)         (None, 17)                357       \n",
      "                                                                 \n",
      "=================================================================\n",
      "Total params: 3,567\n",
      "Trainable params: 3,467\n",
      "Non-trainable params: 100\n",
      "_________________________________________________________________\n",
      "None\n"
     ]
    },
    {
     "name": "stderr",
     "output_type": "stream",
     "text": [
      "2024-08-04 18:56:30.385218: E tensorflow/compiler/xla/stream_executor/cuda/cuda_driver.cc:267] failed call to cuInit: CUDA_ERROR_NO_DEVICE: no CUDA-capable device is detected\n",
      "2024-08-04 18:56:30.385262: I tensorflow/compiler/xla/stream_executor/cuda/cuda_diagnostics.cc:156] kernel driver does not appear to be running on this host (VLSI-CAD): /proc/driver/nvidia/version does not exist\n",
      "2024-08-04 18:56:30.386368: I tensorflow/core/platform/cpu_feature_guard.cc:193] This TensorFlow binary is optimized with oneAPI Deep Neural Network Library (oneDNN) to use the following CPU instructions in performance-critical operations:  AVX2 FMA\n",
      "To enable them in other operations, rebuild TensorFlow with the appropriate compiler flags.\n"
     ]
    }
   ],
   "source": [
    "model = define_model(seed_value)\n",
    "print(model.summary())"
   ]
  },
  {
   "cell_type": "code",
   "execution_count": 8,
   "id": "783b0079",
   "metadata": {},
   "outputs": [
    {
     "name": "stdout",
     "output_type": "stream",
     "text": [
      "Epoch 1/500\n",
      "40/44 [==========================>...] - ETA: 0s - loss: 54.6720 - accuracy: 0.0625 \n",
      "Epoch 1: val_accuracy improved from -inf to 0.03158, saving model to allamino_model3forpaper.h5\n",
      "44/44 [==============================] - 1s 6ms/step - loss: 55.0194 - accuracy: 0.0661 - val_loss: 2.8315 - val_accuracy: 0.0316\n",
      "Epoch 2/500\n",
      "42/44 [===========================>..] - ETA: 0s - loss: 50.2661 - accuracy: 0.0643\n",
      "Epoch 2: val_accuracy improved from 0.03158 to 0.10526, saving model to allamino_model3forpaper.h5\n",
      "44/44 [==============================] - 0s 2ms/step - loss: 50.1122 - accuracy: 0.0615 - val_loss: 2.8269 - val_accuracy: 0.1053\n",
      "Epoch 3/500\n",
      " 1/44 [..............................] - ETA: 0s - loss: 57.1940 - accuracy: 0.0000e+00\n",
      "Epoch 3: val_accuracy improved from 0.10526 to 0.12632, saving model to allamino_model3forpaper.h5\n",
      "44/44 [==============================] - 0s 2ms/step - loss: 49.0977 - accuracy: 0.0615 - val_loss: 2.8309 - val_accuracy: 0.1263\n",
      "Epoch 4/500\n",
      " 1/44 [..............................] - ETA: 0s - loss: 28.8569 - accuracy: 0.0000e+00\n",
      "Epoch 4: val_accuracy improved from 0.12632 to 0.13684, saving model to allamino_model3forpaper.h5\n",
      "44/44 [==============================] - 0s 2ms/step - loss: 48.7769 - accuracy: 0.0911 - val_loss: 2.8298 - val_accuracy: 0.1368\n",
      "Epoch 5/500\n",
      " 1/44 [..............................] - ETA: 0s - loss: 72.7320 - accuracy: 0.0000e+00\n",
      "Epoch 5: val_accuracy improved from 0.13684 to 0.18947, saving model to allamino_model3forpaper.h5\n",
      "44/44 [==============================] - 0s 2ms/step - loss: 47.5937 - accuracy: 0.0774 - val_loss: 2.8304 - val_accuracy: 0.1895\n",
      "Epoch 6/500\n",
      " 1/44 [..............................] - ETA: 0s - loss: 41.2943 - accuracy: 0.0000e+00\n",
      "Epoch 6: val_accuracy did not improve from 0.18947\n",
      "44/44 [==============================] - 0s 2ms/step - loss: 47.6379 - accuracy: 0.1139 - val_loss: 2.8297 - val_accuracy: 0.1474\n",
      "Epoch 7/500\n",
      " 1/44 [..............................] - ETA: 0s - loss: 53.3664 - accuracy: 0.0000e+00\n",
      "Epoch 7: val_accuracy did not improve from 0.18947\n",
      "44/44 [==============================] - 0s 2ms/step - loss: 48.1606 - accuracy: 0.0820 - val_loss: 2.8301 - val_accuracy: 0.1474\n",
      "Epoch 8/500\n",
      " 1/44 [..............................] - ETA: 0s - loss: 42.3753 - accuracy: 0.0000e+00\n",
      "Epoch 8: val_accuracy did not improve from 0.18947\n",
      "44/44 [==============================] - 0s 2ms/step - loss: 47.8000 - accuracy: 0.0547 - val_loss: 2.8250 - val_accuracy: 0.1158\n",
      "Epoch 9/500\n",
      " 1/44 [..............................] - ETA: 0s - loss: 41.1101 - accuracy: 0.1000\n",
      "Epoch 9: val_accuracy did not improve from 0.18947\n",
      "44/44 [==============================] - 0s 2ms/step - loss: 47.3734 - accuracy: 0.0729 - val_loss: 2.8241 - val_accuracy: 0.1053\n",
      "Epoch 10/500\n",
      " 1/44 [..............................] - ETA: 0s - loss: 38.0637 - accuracy: 0.0000e+00\n",
      "Epoch 10: val_accuracy did not improve from 0.18947\n",
      "44/44 [==============================] - 0s 2ms/step - loss: 47.6810 - accuracy: 0.0729 - val_loss: 2.8313 - val_accuracy: 0.0842\n",
      "Epoch 11/500\n",
      " 1/44 [..............................] - ETA: 0s - loss: 49.7739 - accuracy: 0.0000e+00\n",
      "Epoch 11: val_accuracy did not improve from 0.18947\n",
      "44/44 [==============================] - 0s 2ms/step - loss: 46.6421 - accuracy: 0.1071 - val_loss: 2.8310 - val_accuracy: 0.0632\n",
      "Epoch 12/500\n",
      " 1/44 [..............................] - ETA: 0s - loss: 31.6202 - accuracy: 0.0000e+00\n",
      "Epoch 12: val_accuracy did not improve from 0.18947\n",
      "44/44 [==============================] - 0s 2ms/step - loss: 47.8003 - accuracy: 0.0729 - val_loss: 2.8385 - val_accuracy: 0.0842\n",
      "Epoch 13/500\n",
      " 1/44 [..............................] - ETA: 0s - loss: 43.4794 - accuracy: 0.1000\n",
      "Epoch 13: val_accuracy did not improve from 0.18947\n",
      "44/44 [==============================] - 0s 2ms/step - loss: 46.8264 - accuracy: 0.0866 - val_loss: 2.8432 - val_accuracy: 0.0737\n",
      "Epoch 14/500\n",
      " 1/44 [..............................] - ETA: 0s - loss: 39.8082 - accuracy: 0.1000\n",
      "Epoch 14: val_accuracy did not improve from 0.18947\n",
      "44/44 [==============================] - 0s 2ms/step - loss: 46.7942 - accuracy: 0.0774 - val_loss: 2.8409 - val_accuracy: 0.0316\n",
      "Epoch 15/500\n",
      " 1/44 [..............................] - ETA: 0s - loss: 68.5771 - accuracy: 0.1000\n",
      "Epoch 15: val_accuracy did not improve from 0.18947\n",
      "44/44 [==============================] - 0s 2ms/step - loss: 46.8879 - accuracy: 0.0843 - val_loss: 2.8423 - val_accuracy: 0.0211\n",
      "Epoch 16/500\n",
      " 1/44 [..............................] - ETA: 0s - loss: 59.9553 - accuracy: 0.0000e+00\n",
      "Epoch 16: val_accuracy did not improve from 0.18947\n",
      "44/44 [==============================] - 0s 2ms/step - loss: 46.1751 - accuracy: 0.1071 - val_loss: 2.8349 - val_accuracy: 0.0421\n",
      "Epoch 17/500\n",
      " 1/44 [..............................] - ETA: 0s - loss: 39.5069 - accuracy: 0.0000e+00\n",
      "Epoch 17: val_accuracy did not improve from 0.18947\n",
      "44/44 [==============================] - 0s 2ms/step - loss: 45.8412 - accuracy: 0.1093 - val_loss: 2.8167 - val_accuracy: 0.0737\n",
      "Epoch 18/500\n",
      " 1/44 [..............................] - ETA: 0s - loss: 50.8392 - accuracy: 0.2000\n",
      "Epoch 18: val_accuracy did not improve from 0.18947\n",
      "44/44 [==============================] - 0s 2ms/step - loss: 46.0828 - accuracy: 0.1116 - val_loss: 2.8065 - val_accuracy: 0.0842\n",
      "Epoch 19/500\n",
      " 1/44 [..............................] - ETA: 0s - loss: 39.8971 - accuracy: 0.0000e+00\n",
      "Epoch 19: val_accuracy did not improve from 0.18947\n",
      "44/44 [==============================] - 0s 2ms/step - loss: 44.8849 - accuracy: 0.1344 - val_loss: 2.7949 - val_accuracy: 0.0737\n",
      "Epoch 20/500\n",
      " 1/44 [..............................] - ETA: 0s - loss: 54.8554 - accuracy: 0.1000\n",
      "Epoch 20: val_accuracy did not improve from 0.18947\n",
      "44/44 [==============================] - 0s 2ms/step - loss: 45.5790 - accuracy: 0.1344 - val_loss: 2.7960 - val_accuracy: 0.0737\n",
      "Epoch 21/500\n",
      " 1/44 [..............................] - ETA: 0s - loss: 48.0250 - accuracy: 0.1000\n",
      "Epoch 21: val_accuracy did not improve from 0.18947\n",
      "44/44 [==============================] - 0s 2ms/step - loss: 45.3224 - accuracy: 0.1025 - val_loss: 2.7823 - val_accuracy: 0.0421\n",
      "Epoch 22/500\n",
      " 1/44 [..............................] - ETA: 0s - loss: 47.5220 - accuracy: 0.3000\n",
      "Epoch 22: val_accuracy did not improve from 0.18947\n",
      "44/44 [==============================] - 0s 2ms/step - loss: 44.5541 - accuracy: 0.1390 - val_loss: 2.8010 - val_accuracy: 0.0737\n",
      "Epoch 23/500\n",
      " 1/44 [..............................] - ETA: 0s - loss: 50.0830 - accuracy: 0.1000\n",
      "Epoch 23: val_accuracy did not improve from 0.18947\n",
      "44/44 [==============================] - 0s 2ms/step - loss: 44.3964 - accuracy: 0.1276 - val_loss: 2.8105 - val_accuracy: 0.0632\n",
      "Epoch 24/500\n",
      " 1/44 [..............................] - ETA: 0s - loss: 23.4980 - accuracy: 0.1000\n",
      "Epoch 24: val_accuracy did not improve from 0.18947\n",
      "44/44 [==============================] - 0s 2ms/step - loss: 44.2583 - accuracy: 0.1185 - val_loss: 2.8264 - val_accuracy: 0.0421\n",
      "Epoch 25/500\n",
      " 1/44 [..............................] - ETA: 0s - loss: 27.5742 - accuracy: 0.1000\n",
      "Epoch 25: val_accuracy did not improve from 0.18947\n",
      "44/44 [==============================] - 0s 2ms/step - loss: 43.6620 - accuracy: 0.1754 - val_loss: 2.8075 - val_accuracy: 0.0526\n",
      "Epoch 26/500\n",
      " 1/44 [..............................] - ETA: 0s - loss: 45.0301 - accuracy: 0.0000e+00\n",
      "Epoch 26: val_accuracy did not improve from 0.18947\n",
      "44/44 [==============================] - 0s 2ms/step - loss: 41.5844 - accuracy: 0.1344 - val_loss: 2.8194 - val_accuracy: 0.0421\n",
      "Epoch 27/500\n",
      " 1/44 [..............................] - ETA: 0s - loss: 58.4805 - accuracy: 0.1000\n",
      "Epoch 27: val_accuracy did not improve from 0.18947\n",
      "44/44 [==============================] - 0s 2ms/step - loss: 42.1790 - accuracy: 0.1572 - val_loss: 2.7964 - val_accuracy: 0.0737\n",
      "Epoch 28/500\n",
      " 1/44 [..............................] - ETA: 0s - loss: 41.4371 - accuracy: 0.0000e+00\n",
      "Epoch 28: val_accuracy did not improve from 0.18947\n",
      "44/44 [==============================] - 0s 2ms/step - loss: 43.0599 - accuracy: 0.1526 - val_loss: 2.8115 - val_accuracy: 0.0632\n",
      "Epoch 29/500\n",
      " 1/44 [..............................] - ETA: 0s - loss: 48.9156 - accuracy: 0.4000\n",
      "Epoch 29: val_accuracy did not improve from 0.18947\n"
     ]
    },
    {
     "name": "stdout",
     "output_type": "stream",
     "text": [
      "44/44 [==============================] - 0s 2ms/step - loss: 42.6674 - accuracy: 0.1572 - val_loss: 2.8432 - val_accuracy: 0.0421\n",
      "Epoch 30/500\n",
      " 1/44 [..............................] - ETA: 0s - loss: 54.3803 - accuracy: 0.2000\n",
      "Epoch 30: val_accuracy did not improve from 0.18947\n",
      "44/44 [==============================] - 0s 2ms/step - loss: 41.7010 - accuracy: 0.1800 - val_loss: 2.7933 - val_accuracy: 0.0737\n",
      "Epoch 31/500\n",
      " 1/44 [..............................] - ETA: 0s - loss: 32.8547 - accuracy: 0.2000\n",
      "Epoch 31: val_accuracy did not improve from 0.18947\n",
      "44/44 [==============================] - 0s 2ms/step - loss: 41.6242 - accuracy: 0.1800 - val_loss: 2.7853 - val_accuracy: 0.0737\n",
      "Epoch 32/500\n",
      " 1/44 [..............................] - ETA: 0s - loss: 43.5638 - accuracy: 0.1000\n",
      "Epoch 32: val_accuracy did not improve from 0.18947\n",
      "44/44 [==============================] - 0s 2ms/step - loss: 42.5653 - accuracy: 0.1458 - val_loss: 2.8221 - val_accuracy: 0.0842\n",
      "Epoch 33/500\n",
      " 1/44 [..............................] - ETA: 0s - loss: 42.1793 - accuracy: 0.2000\n",
      "Epoch 33: val_accuracy did not improve from 0.18947\n",
      "44/44 [==============================] - 0s 2ms/step - loss: 40.4149 - accuracy: 0.1686 - val_loss: 2.7652 - val_accuracy: 0.0842\n",
      "Epoch 34/500\n",
      " 1/44 [..............................] - ETA: 0s - loss: 37.8779 - accuracy: 0.0000e+00\n",
      "Epoch 34: val_accuracy did not improve from 0.18947\n",
      "44/44 [==============================] - 0s 2ms/step - loss: 40.6579 - accuracy: 0.1572 - val_loss: 2.7541 - val_accuracy: 0.0947\n",
      "Epoch 35/500\n",
      " 1/44 [..............................] - ETA: 0s - loss: 55.1520 - accuracy: 0.4000\n",
      "Epoch 35: val_accuracy did not improve from 0.18947\n",
      "44/44 [==============================] - 0s 2ms/step - loss: 40.1852 - accuracy: 0.1800 - val_loss: 2.8119 - val_accuracy: 0.0947\n",
      "Epoch 36/500\n",
      " 1/44 [..............................] - ETA: 0s - loss: 44.2608 - accuracy: 0.1000\n",
      "Epoch 36: val_accuracy did not improve from 0.18947\n",
      "44/44 [==============================] - 0s 2ms/step - loss: 39.7575 - accuracy: 0.1845 - val_loss: 2.8090 - val_accuracy: 0.1053\n",
      "Epoch 37/500\n",
      " 1/44 [..............................] - ETA: 0s - loss: 39.2863 - accuracy: 0.2000\n",
      "Epoch 37: val_accuracy did not improve from 0.18947\n",
      "44/44 [==============================] - 0s 2ms/step - loss: 39.7602 - accuracy: 0.1891 - val_loss: 2.7244 - val_accuracy: 0.1158\n",
      "Epoch 38/500\n",
      " 1/44 [..............................] - ETA: 0s - loss: 23.6039 - accuracy: 0.2000\n",
      "Epoch 38: val_accuracy did not improve from 0.18947\n",
      "44/44 [==============================] - 0s 2ms/step - loss: 40.2935 - accuracy: 0.1913 - val_loss: 2.7833 - val_accuracy: 0.1158\n",
      "Epoch 39/500\n",
      " 1/44 [..............................] - ETA: 0s - loss: 38.9316 - accuracy: 0.2000\n",
      "Epoch 39: val_accuracy did not improve from 0.18947\n",
      "44/44 [==============================] - 0s 2ms/step - loss: 38.7075 - accuracy: 0.2255 - val_loss: 2.8148 - val_accuracy: 0.1158\n",
      "Epoch 40/500\n",
      " 1/44 [..............................] - ETA: 0s - loss: 25.9882 - accuracy: 0.3000\n",
      "Epoch 40: val_accuracy did not improve from 0.18947\n",
      "44/44 [==============================] - 0s 2ms/step - loss: 38.9519 - accuracy: 0.2073 - val_loss: 2.7898 - val_accuracy: 0.1158\n",
      "Epoch 41/500\n",
      " 1/44 [..............................] - ETA: 0s - loss: 23.5535 - accuracy: 0.2000\n",
      "Epoch 41: val_accuracy did not improve from 0.18947\n",
      "44/44 [==============================] - 0s 2ms/step - loss: 37.2840 - accuracy: 0.2118 - val_loss: 2.8050 - val_accuracy: 0.1158\n",
      "Epoch 42/500\n",
      " 1/44 [..............................] - ETA: 0s - loss: 33.9128 - accuracy: 0.3000\n",
      "Epoch 42: val_accuracy did not improve from 0.18947\n",
      "44/44 [==============================] - 0s 2ms/step - loss: 37.3899 - accuracy: 0.2415 - val_loss: 2.7993 - val_accuracy: 0.1158\n",
      "Epoch 43/500\n",
      " 1/44 [..............................] - ETA: 0s - loss: 38.0923 - accuracy: 0.1000\n",
      "Epoch 43: val_accuracy did not improve from 0.18947\n",
      "44/44 [==============================] - 0s 2ms/step - loss: 39.1197 - accuracy: 0.2210 - val_loss: 2.8536 - val_accuracy: 0.1053\n",
      "Epoch 44/500\n",
      " 1/44 [..............................] - ETA: 0s - loss: 42.2429 - accuracy: 0.4000\n",
      "Epoch 44: val_accuracy did not improve from 0.18947\n",
      "44/44 [==============================] - 0s 2ms/step - loss: 37.7023 - accuracy: 0.2301 - val_loss: 2.8560 - val_accuracy: 0.0842\n",
      "Epoch 45/500\n",
      " 1/44 [..............................] - ETA: 0s - loss: 35.0448 - accuracy: 0.3000\n",
      "Epoch 45: val_accuracy did not improve from 0.18947\n",
      "44/44 [==============================] - 0s 2ms/step - loss: 38.1911 - accuracy: 0.2506 - val_loss: 2.8014 - val_accuracy: 0.1053\n",
      "Epoch 46/500\n",
      " 1/44 [..............................] - ETA: 0s - loss: 39.8867 - accuracy: 0.3000\n",
      "Epoch 46: val_accuracy did not improve from 0.18947\n",
      "44/44 [==============================] - 0s 2ms/step - loss: 39.3131 - accuracy: 0.2073 - val_loss: 2.8863 - val_accuracy: 0.0842\n",
      "Epoch 47/500\n",
      " 1/44 [..............................] - ETA: 0s - loss: 33.8623 - accuracy: 0.3000\n",
      "Epoch 47: val_accuracy did not improve from 0.18947\n",
      "44/44 [==============================] - 0s 2ms/step - loss: 37.2106 - accuracy: 0.1868 - val_loss: 2.8174 - val_accuracy: 0.1053\n",
      "Epoch 48/500\n",
      " 1/44 [..............................] - ETA: 0s - loss: 27.4308 - accuracy: 0.2000\n",
      "Epoch 48: val_accuracy did not improve from 0.18947\n",
      "44/44 [==============================] - 0s 2ms/step - loss: 36.1848 - accuracy: 0.2323 - val_loss: 2.8371 - val_accuracy: 0.0947\n",
      "Epoch 49/500\n",
      " 1/44 [..............................] - ETA: 0s - loss: 37.2631 - accuracy: 0.2000\n",
      "Epoch 49: val_accuracy did not improve from 0.18947\n",
      "44/44 [==============================] - 0s 2ms/step - loss: 38.9076 - accuracy: 0.1913 - val_loss: 2.8289 - val_accuracy: 0.1158\n",
      "Epoch 50/500\n",
      " 1/44 [..............................] - ETA: 0s - loss: 47.0948 - accuracy: 0.3000\n",
      "Epoch 50: val_accuracy did not improve from 0.18947\n",
      "44/44 [==============================] - 0s 2ms/step - loss: 36.1181 - accuracy: 0.2232 - val_loss: 2.8151 - val_accuracy: 0.0947\n",
      "Epoch 51/500\n",
      " 1/44 [..............................] - ETA: 0s - loss: 49.7448 - accuracy: 0.1000\n",
      "Epoch 51: val_accuracy did not improve from 0.18947\n",
      "44/44 [==============================] - 0s 2ms/step - loss: 36.3823 - accuracy: 0.2437 - val_loss: 2.8306 - val_accuracy: 0.1053\n",
      "Epoch 52/500\n",
      " 1/44 [..............................] - ETA: 0s - loss: 28.3054 - accuracy: 0.2000\n",
      "Epoch 52: val_accuracy did not improve from 0.18947\n",
      "44/44 [==============================] - 0s 2ms/step - loss: 38.9344 - accuracy: 0.2278 - val_loss: 2.8946 - val_accuracy: 0.1158\n",
      "Epoch 53/500\n",
      " 1/44 [..............................] - ETA: 0s - loss: 32.4254 - accuracy: 0.1000\n",
      "Epoch 53: val_accuracy did not improve from 0.18947\n",
      "44/44 [==============================] - 0s 2ms/step - loss: 35.7053 - accuracy: 0.2506 - val_loss: 2.8418 - val_accuracy: 0.1158\n",
      "Epoch 54/500\n",
      " 1/44 [..............................] - ETA: 0s - loss: 27.9470 - accuracy: 0.4000\n",
      "Epoch 54: val_accuracy did not improve from 0.18947\n",
      "44/44 [==============================] - 0s 2ms/step - loss: 36.3928 - accuracy: 0.2164 - val_loss: 2.8576 - val_accuracy: 0.1053\n",
      "Epoch 55/500\n",
      " 1/44 [..............................] - ETA: 0s - loss: 29.3258 - accuracy: 0.2000\n",
      "Epoch 55: val_accuracy did not improve from 0.18947\n",
      "44/44 [==============================] - 0s 2ms/step - loss: 35.9967 - accuracy: 0.2346 - val_loss: 2.8380 - val_accuracy: 0.1158\n",
      "Epoch 55: early stopping\n"
     ]
    }
   ],
   "source": [
    "\n",
    "history = model.fit(X_train, y_train,\n",
    "              batch_size=10,\n",
    "              verbose=1,\n",
    "              epochs=500,\n",
    "              validation_data = (X_val,y_val), \n",
    "              callbacks = [es,model_checkpoint]\n",
    "                    ,class_weight = {0:4.77,1:4.43,2:36.58,3:48.78,4:24.39,5:29.27,6:29.27,7:16.88,8:16.88,9:15.14,10:36.58,11:16.88,12:29.27,13:36.58,14:36.58,15:48.78,16:36.58}\n",
    "                   )"
   ]
  },
  {
   "cell_type": "code",
   "execution_count": 9,
   "id": "5828eaaa",
   "metadata": {},
   "outputs": [
    {
     "name": "stdout",
     "output_type": "stream",
     "text": [
      "3/3 [==============================] - 0s 2ms/step - loss: 2.8266 - accuracy: 0.1383\n"
     ]
    },
    {
     "data": {
      "text/plain": [
       "[2.8265998363494873, 0.13829787075519562]"
      ]
     },
     "execution_count": 9,
     "metadata": {},
     "output_type": "execute_result"
    }
   ],
   "source": [
    "model1 = tf.keras.models.load_model('allamino_model3forpaper.h5')\n",
    "model1.evaluate(X_test,y_test)"
   ]
  },
  {
   "cell_type": "code",
   "execution_count": 10,
   "id": "03982f82",
   "metadata": {},
   "outputs": [
    {
     "name": "stdout",
     "output_type": "stream",
     "text": [
      "3/3 [==============================] - 0s 2ms/step - loss: 2.8304 - accuracy: 0.1895\n"
     ]
    },
    {
     "data": {
      "text/plain": [
       "[2.8303720951080322, 0.1894736886024475]"
      ]
     },
     "execution_count": 10,
     "metadata": {},
     "output_type": "execute_result"
    }
   ],
   "source": [
    "model1 = tf.keras.models.load_model('allamino_model3forpaper.h5')\n",
    "model1.evaluate(X_val,y_val)"
   ]
  },
  {
   "cell_type": "code",
   "execution_count": 11,
   "id": "8ad175c5",
   "metadata": {},
   "outputs": [
    {
     "name": "stdout",
     "output_type": "stream",
     "text": [
      "14/14 [==============================] - 0s 910us/step - loss: 2.8159 - accuracy: 0.1868\n"
     ]
    },
    {
     "data": {
      "text/plain": [
       "[2.815934181213379, 0.1867881566286087]"
      ]
     },
     "execution_count": 11,
     "metadata": {},
     "output_type": "execute_result"
    }
   ],
   "source": [
    "model1 = tf.keras.models.load_model('allamino_model3forpaper.h5')\n",
    "model1.evaluate(X_train,y_train)"
   ]
  }
 ],
 "metadata": {
  "kernelspec": {
   "display_name": "Python [conda env:ridhanya-yolo] *",
   "language": "python",
   "name": "conda-env-ridhanya-yolo-py"
  },
  "language_info": {
   "codemirror_mode": {
    "name": "ipython",
    "version": 3
   },
   "file_extension": ".py",
   "mimetype": "text/x-python",
   "name": "python",
   "nbconvert_exporter": "python",
   "pygments_lexer": "ipython3",
   "version": "3.10.6"
  }
 },
 "nbformat": 4,
 "nbformat_minor": 5
}
