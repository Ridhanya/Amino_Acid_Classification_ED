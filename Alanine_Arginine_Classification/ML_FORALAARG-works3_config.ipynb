{
 "cells": [
  {
   "cell_type": "code",
   "execution_count": 1,
   "id": "428d516d",
   "metadata": {},
   "outputs": [
    {
     "name": "stderr",
     "output_type": "stream",
     "text": [
      "2024-06-30 20:39:19.570926: I tensorflow/core/platform/cpu_feature_guard.cc:193] This TensorFlow binary is optimized with oneAPI Deep Neural Network Library (oneDNN) to use the following CPU instructions in performance-critical operations:  AVX2 FMA\n",
      "To enable them in other operations, rebuild TensorFlow with the appropriate compiler flags.\n",
      "2024-06-30 20:39:20.182684: W tensorflow/compiler/xla/stream_executor/platform/default/dso_loader.cc:64] Could not load dynamic library 'libnvinfer.so.7'; dlerror: libnvinfer.so.7: cannot open shared object file: No such file or directory\n",
      "2024-06-30 20:39:20.182735: W tensorflow/compiler/xla/stream_executor/platform/default/dso_loader.cc:64] Could not load dynamic library 'libnvinfer_plugin.so.7'; dlerror: libnvinfer_plugin.so.7: cannot open shared object file: No such file or directory\n",
      "2024-06-30 20:39:20.182740: W tensorflow/compiler/tf2tensorrt/utils/py_utils.cc:38] TF-TRT Warning: Cannot dlopen some TensorRT libraries. If you would like to use Nvidia GPU with TensorRT, please make sure the missing libraries mentioned above are installed properly.\n"
     ]
    }
   ],
   "source": [
    "#importing libraries\n",
    "import pandas as pd\n",
    "import os\n",
    "import numpy as np\n",
    "from sklearn.metrics import accuracy_score\n",
    "import matplotlib.pyplot as plt\n",
    "import tensorflow as tf\n",
    "from tensorflow.keras import Sequential\n",
    "from tensorflow.keras.layers import Dense\n",
    "from keras.layers import Dense, Conv1D, Flatten, Dropout\n",
    "from tensorflow.keras.optimizers import Adam\n",
    "from sklearn.model_selection import StratifiedKFold\n",
    "from keras.backend import dropout\n",
    "import keras\n",
    "import random\n",
    "from sklearn.model_selection import train_test_split\n",
    "from tensorflow.keras import regularizers"
   ]
  },
  {
   "cell_type": "code",
   "execution_count": 2,
   "id": "35ab86f1",
   "metadata": {},
   "outputs": [],
   "source": [
    "# Set a seed value\n",
    "seed_value= 1\n",
    "\n",
    "# 1. Set `PYTHONHASHSEED` environment variable at a fixed value\n",
    "os.environ['PYTHONHASHSEED']=str(seed_value)\n",
    "\n",
    "# 2. Set `python` built-in pseudo-random generator at a fixed value\n",
    "random.seed(seed_value)\n",
    "\n",
    "# 3. Set `numpy` pseudo-random generator at a fixed value\n",
    "np.random.seed(seed_value)\n",
    "\n",
    "# 4. Set `tensorflow` pseudo-random generator at a fixed value\n",
    "tf.random.set_seed(seed_value)\n",
    "\n",
    "tf.keras.utils.set_random_seed(seed_value)\n",
    "\n",
    "# 5. For layers that introduce randomness like dropout, make sure to set seed values \n",
    "# model.add(Dropout(0.25, seed=seed_value))"
   ]
  },
  {
   "cell_type": "code",
   "execution_count": 3,
   "id": "37dc12e8",
   "metadata": {},
   "outputs": [],
   "source": [
    "#import relevant datasets\n",
    "X_train = pd.read_csv(\"finalXtrain.csv\")\n",
    "y_train = pd.read_csv(\"finalYtrain.csv\")\n",
    "X_test = pd.read_csv(\"finalXtest.csv\")\n",
    "y_test = pd.read_csv(\"finalYtest.csv\")\n",
    "X_val = pd.read_csv(\"finalXval.csv\")\n",
    "y_val = pd.read_csv(\"finalYval.csv\")"
   ]
  },
  {
   "cell_type": "code",
   "execution_count": 4,
   "id": "2b59d406",
   "metadata": {},
   "outputs": [
    {
     "name": "stdout",
     "output_type": "stream",
     "text": [
      "(191, 72)\n",
      "(191, 2)\n",
      "(41, 72)\n",
      "(41, 2)\n",
      "(42, 72)\n",
      "(42, 2)\n"
     ]
    }
   ],
   "source": [
    "#check shape\n",
    "print(X_train.shape)\n",
    "print(y_train.shape)\n",
    "print(X_test.shape)\n",
    "print(y_test.shape)\n",
    "print(X_val.shape)\n",
    "print(y_val.shape)"
   ]
  },
  {
   "cell_type": "code",
   "execution_count": 5,
   "id": "9af58933",
   "metadata": {},
   "outputs": [],
   "source": [
    "#build model\n",
    "\n",
    "def define_model(seedval):\n",
    "    inputs = tf.keras.Input(shape=(72, 1), name='input')\n",
    "    x = Conv1D(filters=5, kernel_size=3,strides =3)(inputs)\n",
    "    x = tf.keras.layers.BatchNormalization()(x)\n",
    "    x = tf.keras.layers.Activation(tf.keras.activations.relu)(x)\n",
    "    x = tf.keras.layers.MaxPooling1D(2)(x)\n",
    "    x = Conv1D(filters=45, kernel_size=5,strides =2)(x)\n",
    "    x = tf.keras.layers.BatchNormalization()(x)\n",
    "    x = tf.keras.layers.Activation(tf.keras.activations.relu)(x)\n",
    "    x = tf.keras.layers.MaxPooling1D(2)(x)\n",
    "    x = Flatten()(x)\n",
    "    x = Dropout(0.5,seed=seedval)(x)\n",
    "    x = Dense(20,activation ='relu')(x)\n",
    "#     x = Dropout(0.5,seed=seedval)(x)\n",
    "#     x = Dense(10,activation ='relu')(x)\n",
    "#     x = Dense(5,activation ='relu')(x)\n",
    "    outputs = Dense(2, activation='softmax', name='predictions')(x)\n",
    "    cnn_model = tf.keras.Model(inputs=inputs, outputs=outputs)\n",
    "    cnn_model.compile(loss='categorical_crossentropy', optimizer= Adam(), metrics=['accuracy'])\n",
    "    return cnn_model"
   ]
  },
  {
   "cell_type": "code",
   "execution_count": 6,
   "id": "dbb02d20",
   "metadata": {},
   "outputs": [],
   "source": [
    "#earlystopping\n",
    "es = tf.keras.callbacks.EarlyStopping(monitor='val_accuracy', mode='max', verbose=1, patience=50)\n",
    "checkpoint_path = 'alaarg_oct9_check.h5'\n",
    "model_checkpoint = tf.keras.callbacks.ModelCheckpoint(checkpoint_path,\n",
    "                                   monitor='val_accuracy',\n",
    "                                   save_best_only=True,\n",
    "                                   mode='max',\n",
    "                                   verbose=1)"
   ]
  },
  {
   "cell_type": "code",
   "execution_count": 7,
   "id": "b0673a5f",
   "metadata": {},
   "outputs": [
    {
     "name": "stderr",
     "output_type": "stream",
     "text": [
      "2024-06-30 20:39:20.693360: I tensorflow/compiler/xla/stream_executor/cuda/cuda_gpu_executor.cc:981] successful NUMA node read from SysFS had negative value (-1), but there must be at least one NUMA node, so returning NUMA node zero\n"
     ]
    },
    {
     "name": "stdout",
     "output_type": "stream",
     "text": [
      "Model: \"model\"\n",
      "_________________________________________________________________\n",
      " Layer (type)                Output Shape              Param #   \n",
      "=================================================================\n",
      " input (InputLayer)          [(None, 72, 1)]           0         \n",
      "                                                                 \n",
      " conv1d (Conv1D)             (None, 24, 5)             20        \n",
      "                                                                 \n",
      " batch_normalization (BatchN  (None, 24, 5)            20        \n",
      " ormalization)                                                   \n",
      "                                                                 \n",
      " activation (Activation)     (None, 24, 5)             0         \n",
      "                                                                 \n",
      " max_pooling1d (MaxPooling1D  (None, 12, 5)            0         \n",
      " )                                                               \n",
      "                                                                 \n",
      " conv1d_1 (Conv1D)           (None, 4, 45)             1170      \n",
      "                                                                 \n",
      " batch_normalization_1 (Batc  (None, 4, 45)            180       \n",
      " hNormalization)                                                 \n",
      "                                                                 \n",
      " activation_1 (Activation)   (None, 4, 45)             0         \n",
      "                                                                 \n",
      " max_pooling1d_1 (MaxPooling  (None, 2, 45)            0         \n",
      " 1D)                                                             \n",
      "                                                                 \n",
      " flatten (Flatten)           (None, 90)                0         \n",
      "                                                                 \n",
      " dropout (Dropout)           (None, 90)                0         \n",
      "                                                                 \n",
      " dense (Dense)               (None, 20)                1820      \n",
      "                                                                 \n",
      " predictions (Dense)         (None, 2)                 42        \n",
      "                                                                 \n",
      "=================================================================\n",
      "Total params: 3,252\n",
      "Trainable params: 3,152\n",
      "Non-trainable params: 100\n",
      "_________________________________________________________________\n",
      "None\n"
     ]
    },
    {
     "name": "stderr",
     "output_type": "stream",
     "text": [
      "2024-06-30 20:39:20.693663: I tensorflow/compiler/xla/stream_executor/cuda/cuda_gpu_executor.cc:981] successful NUMA node read from SysFS had negative value (-1), but there must be at least one NUMA node, so returning NUMA node zero\n",
      "2024-06-30 20:39:20.702444: I tensorflow/compiler/xla/stream_executor/cuda/cuda_gpu_executor.cc:981] successful NUMA node read from SysFS had negative value (-1), but there must be at least one NUMA node, so returning NUMA node zero\n",
      "2024-06-30 20:39:20.702653: I tensorflow/compiler/xla/stream_executor/cuda/cuda_gpu_executor.cc:981] successful NUMA node read from SysFS had negative value (-1), but there must be at least one NUMA node, so returning NUMA node zero\n",
      "2024-06-30 20:39:20.702818: I tensorflow/compiler/xla/stream_executor/cuda/cuda_gpu_executor.cc:981] successful NUMA node read from SysFS had negative value (-1), but there must be at least one NUMA node, so returning NUMA node zero\n",
      "2024-06-30 20:39:20.702976: I tensorflow/compiler/xla/stream_executor/cuda/cuda_gpu_executor.cc:981] successful NUMA node read from SysFS had negative value (-1), but there must be at least one NUMA node, so returning NUMA node zero\n",
      "2024-06-30 20:39:20.703713: I tensorflow/core/platform/cpu_feature_guard.cc:193] This TensorFlow binary is optimized with oneAPI Deep Neural Network Library (oneDNN) to use the following CPU instructions in performance-critical operations:  AVX2 FMA\n",
      "To enable them in other operations, rebuild TensorFlow with the appropriate compiler flags.\n",
      "2024-06-30 20:39:20.855795: I tensorflow/compiler/xla/stream_executor/cuda/cuda_gpu_executor.cc:981] successful NUMA node read from SysFS had negative value (-1), but there must be at least one NUMA node, so returning NUMA node zero\n",
      "2024-06-30 20:39:20.855994: I tensorflow/compiler/xla/stream_executor/cuda/cuda_gpu_executor.cc:981] successful NUMA node read from SysFS had negative value (-1), but there must be at least one NUMA node, so returning NUMA node zero\n",
      "2024-06-30 20:39:20.856164: I tensorflow/compiler/xla/stream_executor/cuda/cuda_gpu_executor.cc:981] successful NUMA node read from SysFS had negative value (-1), but there must be at least one NUMA node, so returning NUMA node zero\n",
      "2024-06-30 20:39:20.856319: I tensorflow/compiler/xla/stream_executor/cuda/cuda_gpu_executor.cc:981] successful NUMA node read from SysFS had negative value (-1), but there must be at least one NUMA node, so returning NUMA node zero\n",
      "2024-06-30 20:39:20.856473: I tensorflow/compiler/xla/stream_executor/cuda/cuda_gpu_executor.cc:981] successful NUMA node read from SysFS had negative value (-1), but there must be at least one NUMA node, so returning NUMA node zero\n",
      "2024-06-30 20:39:20.856632: I tensorflow/compiler/xla/stream_executor/cuda/cuda_gpu_executor.cc:981] successful NUMA node read from SysFS had negative value (-1), but there must be at least one NUMA node, so returning NUMA node zero\n",
      "2024-06-30 20:39:21.480703: I tensorflow/compiler/xla/stream_executor/cuda/cuda_gpu_executor.cc:981] successful NUMA node read from SysFS had negative value (-1), but there must be at least one NUMA node, so returning NUMA node zero\n",
      "2024-06-30 20:39:21.480919: I tensorflow/compiler/xla/stream_executor/cuda/cuda_gpu_executor.cc:981] successful NUMA node read from SysFS had negative value (-1), but there must be at least one NUMA node, so returning NUMA node zero\n",
      "2024-06-30 20:39:21.481096: I tensorflow/compiler/xla/stream_executor/cuda/cuda_gpu_executor.cc:981] successful NUMA node read from SysFS had negative value (-1), but there must be at least one NUMA node, so returning NUMA node zero\n",
      "2024-06-30 20:39:21.481261: I tensorflow/compiler/xla/stream_executor/cuda/cuda_gpu_executor.cc:981] successful NUMA node read from SysFS had negative value (-1), but there must be at least one NUMA node, so returning NUMA node zero\n",
      "2024-06-30 20:39:21.481419: I tensorflow/compiler/xla/stream_executor/cuda/cuda_gpu_executor.cc:981] successful NUMA node read from SysFS had negative value (-1), but there must be at least one NUMA node, so returning NUMA node zero\n",
      "2024-06-30 20:39:21.481561: I tensorflow/core/common_runtime/gpu/gpu_device.cc:1613] Created device /job:localhost/replica:0/task:0/device:GPU:0 with 46425 MB memory:  -> device: 0, name: NVIDIA RTX A6000, pci bus id: 0000:2e:00.0, compute capability: 8.6\n",
      "2024-06-30 20:39:21.481883: I tensorflow/compiler/xla/stream_executor/cuda/cuda_gpu_executor.cc:981] successful NUMA node read from SysFS had negative value (-1), but there must be at least one NUMA node, so returning NUMA node zero\n",
      "2024-06-30 20:39:21.482032: I tensorflow/core/common_runtime/gpu/gpu_device.cc:1613] Created device /job:localhost/replica:0/task:0/device:GPU:1 with 39586 MB memory:  -> device: 1, name: NVIDIA RTX A6000, pci bus id: 0000:41:00.0, compute capability: 8.6\n"
     ]
    }
   ],
   "source": [
    "model = define_model(seed_value)\n",
    "print(model.summary())"
   ]
  },
  {
   "cell_type": "code",
   "execution_count": 8,
   "id": "4f0ff93a",
   "metadata": {},
   "outputs": [
    {
     "name": "stdout",
     "output_type": "stream",
     "text": [
      "Epoch 1/500\n"
     ]
    },
    {
     "name": "stderr",
     "output_type": "stream",
     "text": [
      "2024-06-30 20:39:23.470005: I tensorflow/compiler/xla/stream_executor/cuda/cuda_dnn.cc:428] Loaded cuDNN version 8500\n",
      "2024-06-30 20:39:23.643447: I tensorflow/tsl/platform/default/subprocess.cc:304] Start cannot spawn child process: No such file or directory\n",
      "2024-06-30 20:39:23.708791: I tensorflow/compiler/xla/stream_executor/cuda/cuda_blas.cc:630] TensorFloat-32 will be used for the matrix multiplication. This will only be logged once.\n",
      "2024-06-30 20:39:23.710268: I tensorflow/compiler/xla/service/service.cc:173] XLA service 0x7f188b72c630 initialized for platform CUDA (this does not guarantee that XLA will be used). Devices:\n",
      "2024-06-30 20:39:23.710281: I tensorflow/compiler/xla/service/service.cc:181]   StreamExecutor device (0): NVIDIA RTX A6000, Compute Capability 8.6\n",
      "2024-06-30 20:39:23.710285: I tensorflow/compiler/xla/service/service.cc:181]   StreamExecutor device (1): NVIDIA RTX A6000, Compute Capability 8.6\n",
      "2024-06-30 20:39:23.714247: I tensorflow/compiler/mlir/tensorflow/utils/dump_mlir_util.cc:268] disabling MLIR crash reproducer, set env var `MLIR_CRASH_REPRODUCER_DIRECTORY` to enable.\n",
      "2024-06-30 20:39:23.775329: I tensorflow/tsl/platform/default/subprocess.cc:304] Start cannot spawn child process: No such file or directory\n",
      "2024-06-30 20:39:23.812979: I tensorflow/compiler/jit/xla_compilation_cache.cc:477] Compiled cluster using XLA!  This line is logged at most once for the lifetime of the process.\n"
     ]
    },
    {
     "name": "stdout",
     "output_type": "stream",
     "text": [
      "16/20 [=======================>......] - ETA: 0s - loss: 1.1110 - accuracy: 0.4688 \n",
      "Epoch 1: val_accuracy improved from -inf to 0.30952, saving model to alaarg_oct9_check.h5\n",
      "20/20 [==============================] - 3s 15ms/step - loss: 1.1548 - accuracy: 0.4712 - val_loss: 0.7258 - val_accuracy: 0.3095\n",
      "Epoch 2/500\n",
      "16/20 [=======================>......] - ETA: 0s - loss: 1.0074 - accuracy: 0.5688\n",
      "Epoch 2: val_accuracy improved from 0.30952 to 0.54762, saving model to alaarg_oct9_check.h5\n",
      "20/20 [==============================] - 0s 6ms/step - loss: 0.9421 - accuracy: 0.5864 - val_loss: 0.6956 - val_accuracy: 0.5476\n",
      "Epoch 3/500\n",
      "18/20 [==========================>...] - ETA: 0s - loss: 0.8050 - accuracy: 0.5833\n",
      "Epoch 3: val_accuracy improved from 0.54762 to 0.71429, saving model to alaarg_oct9_check.h5\n",
      "20/20 [==============================] - 0s 6ms/step - loss: 0.7976 - accuracy: 0.5759 - val_loss: 0.6719 - val_accuracy: 0.7143\n",
      "Epoch 4/500\n",
      "16/20 [=======================>......] - ETA: 0s - loss: 0.7216 - accuracy: 0.6562\n",
      "Epoch 4: val_accuracy did not improve from 0.71429\n",
      "20/20 [==============================] - 0s 5ms/step - loss: 0.7191 - accuracy: 0.6545 - val_loss: 0.6490 - val_accuracy: 0.6905\n",
      "Epoch 5/500\n",
      "16/20 [=======================>......] - ETA: 0s - loss: 0.7568 - accuracy: 0.6125\n",
      "Epoch 5: val_accuracy did not improve from 0.71429\n",
      "20/20 [==============================] - 0s 5ms/step - loss: 0.7632 - accuracy: 0.6073 - val_loss: 0.6323 - val_accuracy: 0.7143\n",
      "Epoch 6/500\n",
      "16/20 [=======================>......] - ETA: 0s - loss: 0.6626 - accuracy: 0.6438\n",
      "Epoch 6: val_accuracy improved from 0.71429 to 0.78571, saving model to alaarg_oct9_check.h5\n",
      "20/20 [==============================] - 0s 6ms/step - loss: 0.6416 - accuracy: 0.6649 - val_loss: 0.6103 - val_accuracy: 0.7857\n",
      "Epoch 7/500\n",
      "16/20 [=======================>......] - ETA: 0s - loss: 0.5444 - accuracy: 0.7375\n",
      "Epoch 7: val_accuracy did not improve from 0.78571\n",
      "20/20 [==============================] - 0s 5ms/step - loss: 0.5703 - accuracy: 0.7277 - val_loss: 0.5981 - val_accuracy: 0.7857\n",
      "Epoch 8/500\n",
      "16/20 [=======================>......] - ETA: 0s - loss: 0.5551 - accuracy: 0.7375\n",
      "Epoch 8: val_accuracy did not improve from 0.78571\n",
      "20/20 [==============================] - 0s 5ms/step - loss: 0.5783 - accuracy: 0.7330 - val_loss: 0.5885 - val_accuracy: 0.7619\n",
      "Epoch 9/500\n",
      "16/20 [=======================>......] - ETA: 0s - loss: 0.4943 - accuracy: 0.7625\n",
      "Epoch 9: val_accuracy did not improve from 0.78571\n",
      "20/20 [==============================] - 0s 6ms/step - loss: 0.5007 - accuracy: 0.7539 - val_loss: 0.5762 - val_accuracy: 0.7619\n",
      "Epoch 10/500\n",
      "16/20 [=======================>......] - ETA: 0s - loss: 0.5275 - accuracy: 0.7188\n",
      "Epoch 10: val_accuracy did not improve from 0.78571\n",
      "20/20 [==============================] - 0s 5ms/step - loss: 0.5474 - accuracy: 0.7068 - val_loss: 0.5662 - val_accuracy: 0.7857\n",
      "Epoch 11/500\n",
      "16/20 [=======================>......] - ETA: 0s - loss: 0.5152 - accuracy: 0.7563\n",
      "Epoch 11: val_accuracy did not improve from 0.78571\n",
      "20/20 [==============================] - 0s 5ms/step - loss: 0.5278 - accuracy: 0.7539 - val_loss: 0.5713 - val_accuracy: 0.6905\n",
      "Epoch 12/500\n",
      "17/20 [========================>.....] - ETA: 0s - loss: 0.5287 - accuracy: 0.7471\n",
      "Epoch 12: val_accuracy did not improve from 0.78571\n",
      "20/20 [==============================] - 0s 5ms/step - loss: 0.5042 - accuracy: 0.7539 - val_loss: 0.5378 - val_accuracy: 0.7619\n",
      "Epoch 13/500\n",
      "17/20 [========================>.....] - ETA: 0s - loss: 0.5868 - accuracy: 0.7059\n",
      "Epoch 13: val_accuracy did not improve from 0.78571\n",
      "20/20 [==============================] - 0s 5ms/step - loss: 0.5802 - accuracy: 0.7120 - val_loss: 0.5126 - val_accuracy: 0.7619\n",
      "Epoch 14/500\n",
      "16/20 [=======================>......] - ETA: 0s - loss: 0.4288 - accuracy: 0.7812\n",
      "Epoch 14: val_accuracy improved from 0.78571 to 0.83333, saving model to alaarg_oct9_check.h5\n",
      "20/20 [==============================] - 0s 6ms/step - loss: 0.4347 - accuracy: 0.7906 - val_loss: 0.5278 - val_accuracy: 0.8333\n",
      "Epoch 15/500\n",
      "16/20 [=======================>......] - ETA: 0s - loss: 0.5110 - accuracy: 0.7563\n",
      "Epoch 15: val_accuracy did not improve from 0.83333\n",
      "20/20 [==============================] - 0s 5ms/step - loss: 0.5102 - accuracy: 0.7487 - val_loss: 0.5050 - val_accuracy: 0.7619\n",
      "Epoch 16/500\n",
      "16/20 [=======================>......] - ETA: 0s - loss: 0.5574 - accuracy: 0.6812\n",
      "Epoch 16: val_accuracy did not improve from 0.83333\n",
      "20/20 [==============================] - 0s 5ms/step - loss: 0.5209 - accuracy: 0.7016 - val_loss: 0.5326 - val_accuracy: 0.7857\n",
      "Epoch 17/500\n",
      "16/20 [=======================>......] - ETA: 0s - loss: 0.5208 - accuracy: 0.6812\n",
      "Epoch 17: val_accuracy did not improve from 0.83333\n",
      "20/20 [==============================] - 0s 5ms/step - loss: 0.5268 - accuracy: 0.6911 - val_loss: 0.5282 - val_accuracy: 0.7619\n",
      "Epoch 18/500\n",
      "15/20 [=====================>........] - ETA: 0s - loss: 0.4246 - accuracy: 0.8133\n",
      "Epoch 18: val_accuracy did not improve from 0.83333\n",
      "20/20 [==============================] - 0s 6ms/step - loss: 0.4440 - accuracy: 0.7958 - val_loss: 0.5400 - val_accuracy: 0.7619\n",
      "Epoch 19/500\n",
      "17/20 [========================>.....] - ETA: 0s - loss: 0.4709 - accuracy: 0.7765\n",
      "Epoch 19: val_accuracy did not improve from 0.83333\n",
      "20/20 [==============================] - 0s 5ms/step - loss: 0.4827 - accuracy: 0.7696 - val_loss: 0.5527 - val_accuracy: 0.7619\n",
      "Epoch 20/500\n",
      "17/20 [========================>.....] - ETA: 0s - loss: 0.4623 - accuracy: 0.7824\n",
      "Epoch 20: val_accuracy did not improve from 0.83333\n",
      "20/20 [==============================] - 0s 5ms/step - loss: 0.4478 - accuracy: 0.7906 - val_loss: 0.5430 - val_accuracy: 0.7143\n",
      "Epoch 21/500\n",
      "17/20 [========================>.....] - ETA: 0s - loss: 0.4422 - accuracy: 0.8059\n",
      "Epoch 21: val_accuracy did not improve from 0.83333\n",
      "20/20 [==============================] - 0s 5ms/step - loss: 0.4572 - accuracy: 0.7906 - val_loss: 0.5374 - val_accuracy: 0.7143\n",
      "Epoch 22/500\n",
      "15/20 [=====================>........] - ETA: 0s - loss: 0.4775 - accuracy: 0.7467\n",
      "Epoch 22: val_accuracy did not improve from 0.83333\n",
      "20/20 [==============================] - 0s 6ms/step - loss: 0.4164 - accuracy: 0.7853 - val_loss: 0.5480 - val_accuracy: 0.6905\n",
      "Epoch 23/500\n",
      "16/20 [=======================>......] - ETA: 0s - loss: 0.3936 - accuracy: 0.8125\n",
      "Epoch 23: val_accuracy did not improve from 0.83333\n",
      "20/20 [==============================] - 0s 5ms/step - loss: 0.4168 - accuracy: 0.7906 - val_loss: 0.5478 - val_accuracy: 0.6905\n",
      "Epoch 24/500\n",
      "17/20 [========================>.....] - ETA: 0s - loss: 0.4409 - accuracy: 0.8176\n",
      "Epoch 24: val_accuracy did not improve from 0.83333\n",
      "20/20 [==============================] - 0s 5ms/step - loss: 0.4311 - accuracy: 0.8272 - val_loss: 0.5371 - val_accuracy: 0.7143\n",
      "Epoch 25/500\n",
      "16/20 [=======================>......] - ETA: 0s - loss: 0.4067 - accuracy: 0.8375\n",
      "Epoch 25: val_accuracy did not improve from 0.83333\n",
      "20/20 [==============================] - 0s 5ms/step - loss: 0.4143 - accuracy: 0.8220 - val_loss: 0.5478 - val_accuracy: 0.7143\n",
      "Epoch 26/500\n",
      "17/20 [========================>.....] - ETA: 0s - loss: 0.4148 - accuracy: 0.8176\n",
      "Epoch 26: val_accuracy did not improve from 0.83333\n",
      "20/20 [==============================] - 0s 5ms/step - loss: 0.4147 - accuracy: 0.8220 - val_loss: 0.5518 - val_accuracy: 0.7143\n",
      "Epoch 27/500\n",
      "16/20 [=======================>......] - ETA: 0s - loss: 0.4231 - accuracy: 0.8188\n",
      "Epoch 27: val_accuracy did not improve from 0.83333\n",
      "20/20 [==============================] - 0s 5ms/step - loss: 0.4500 - accuracy: 0.8010 - val_loss: 0.5514 - val_accuracy: 0.7381\n",
      "Epoch 28/500\n",
      "17/20 [========================>.....] - ETA: 0s - loss: 0.3817 - accuracy: 0.8471\n",
      "Epoch 28: val_accuracy did not improve from 0.83333\n",
      "20/20 [==============================] - 0s 5ms/step - loss: 0.3704 - accuracy: 0.8482 - val_loss: 0.5547 - val_accuracy: 0.7143\n",
      "Epoch 29/500\n",
      "17/20 [========================>.....] - ETA: 0s - loss: 0.4075 - accuracy: 0.7941\n",
      "Epoch 29: val_accuracy did not improve from 0.83333\n",
      "20/20 [==============================] - 0s 5ms/step - loss: 0.3914 - accuracy: 0.8063 - val_loss: 0.5557 - val_accuracy: 0.7143\n"
     ]
    },
    {
     "name": "stdout",
     "output_type": "stream",
     "text": [
      "Epoch 30/500\n",
      "16/20 [=======================>......] - ETA: 0s - loss: 0.4310 - accuracy: 0.7875\n",
      "Epoch 30: val_accuracy did not improve from 0.83333\n",
      "20/20 [==============================] - 0s 5ms/step - loss: 0.4210 - accuracy: 0.8010 - val_loss: 0.5800 - val_accuracy: 0.6905\n",
      "Epoch 31/500\n",
      "16/20 [=======================>......] - ETA: 0s - loss: 0.3868 - accuracy: 0.8188\n",
      "Epoch 31: val_accuracy did not improve from 0.83333\n",
      "20/20 [==============================] - 0s 5ms/step - loss: 0.3822 - accuracy: 0.8272 - val_loss: 0.5905 - val_accuracy: 0.7143\n",
      "Epoch 32/500\n",
      "17/20 [========================>.....] - ETA: 0s - loss: 0.3763 - accuracy: 0.8176\n",
      "Epoch 32: val_accuracy did not improve from 0.83333\n",
      "20/20 [==============================] - 0s 5ms/step - loss: 0.3756 - accuracy: 0.8220 - val_loss: 0.5999 - val_accuracy: 0.6905\n",
      "Epoch 33/500\n",
      "16/20 [=======================>......] - ETA: 0s - loss: 0.3849 - accuracy: 0.8062\n",
      "Epoch 33: val_accuracy did not improve from 0.83333\n",
      "20/20 [==============================] - 0s 6ms/step - loss: 0.3938 - accuracy: 0.8115 - val_loss: 0.6005 - val_accuracy: 0.7143\n",
      "Epoch 34/500\n",
      "16/20 [=======================>......] - ETA: 0s - loss: 0.3970 - accuracy: 0.7750\n",
      "Epoch 34: val_accuracy did not improve from 0.83333\n",
      "20/20 [==============================] - 0s 5ms/step - loss: 0.4093 - accuracy: 0.7696 - val_loss: 0.6068 - val_accuracy: 0.7143\n",
      "Epoch 35/500\n",
      "16/20 [=======================>......] - ETA: 0s - loss: 0.3909 - accuracy: 0.8125\n",
      "Epoch 35: val_accuracy did not improve from 0.83333\n",
      "20/20 [==============================] - 0s 5ms/step - loss: 0.3834 - accuracy: 0.8168 - val_loss: 0.6241 - val_accuracy: 0.7381\n",
      "Epoch 36/500\n",
      "16/20 [=======================>......] - ETA: 0s - loss: 0.3174 - accuracy: 0.8625\n",
      "Epoch 36: val_accuracy did not improve from 0.83333\n",
      "20/20 [==============================] - 0s 5ms/step - loss: 0.3343 - accuracy: 0.8429 - val_loss: 0.6179 - val_accuracy: 0.7381\n",
      "Epoch 37/500\n",
      "16/20 [=======================>......] - ETA: 0s - loss: 0.3976 - accuracy: 0.8250\n",
      "Epoch 37: val_accuracy did not improve from 0.83333\n",
      "20/20 [==============================] - 0s 5ms/step - loss: 0.3828 - accuracy: 0.8168 - val_loss: 0.6314 - val_accuracy: 0.7143\n",
      "Epoch 38/500\n",
      "15/20 [=====================>........] - ETA: 0s - loss: 0.3385 - accuracy: 0.8467\n",
      "Epoch 38: val_accuracy did not improve from 0.83333\n",
      "20/20 [==============================] - 0s 6ms/step - loss: 0.3318 - accuracy: 0.8429 - val_loss: 0.6381 - val_accuracy: 0.7143\n",
      "Epoch 39/500\n",
      "16/20 [=======================>......] - ETA: 0s - loss: 0.3265 - accuracy: 0.8687\n",
      "Epoch 39: val_accuracy did not improve from 0.83333\n",
      "20/20 [==============================] - 0s 5ms/step - loss: 0.3475 - accuracy: 0.8429 - val_loss: 0.6417 - val_accuracy: 0.7143\n",
      "Epoch 40/500\n",
      "16/20 [=======================>......] - ETA: 0s - loss: 0.3249 - accuracy: 0.8625\n",
      "Epoch 40: val_accuracy did not improve from 0.83333\n",
      "20/20 [==============================] - 0s 6ms/step - loss: 0.2972 - accuracy: 0.8796 - val_loss: 0.6200 - val_accuracy: 0.6905\n",
      "Epoch 41/500\n",
      "17/20 [========================>.....] - ETA: 0s - loss: 0.2738 - accuracy: 0.8941\n",
      "Epoch 41: val_accuracy did not improve from 0.83333\n",
      "20/20 [==============================] - 0s 5ms/step - loss: 0.3007 - accuracy: 0.8848 - val_loss: 0.6251 - val_accuracy: 0.7143\n",
      "Epoch 42/500\n",
      "17/20 [========================>.....] - ETA: 0s - loss: 0.4097 - accuracy: 0.8176\n",
      "Epoch 42: val_accuracy did not improve from 0.83333\n",
      "20/20 [==============================] - 0s 5ms/step - loss: 0.4149 - accuracy: 0.8115 - val_loss: 0.5922 - val_accuracy: 0.6905\n",
      "Epoch 43/500\n",
      "17/20 [========================>.....] - ETA: 0s - loss: 0.3556 - accuracy: 0.8471\n",
      "Epoch 43: val_accuracy did not improve from 0.83333\n",
      "20/20 [==============================] - 0s 5ms/step - loss: 0.3463 - accuracy: 0.8534 - val_loss: 0.6033 - val_accuracy: 0.7143\n",
      "Epoch 44/500\n",
      "18/20 [==========================>...] - ETA: 0s - loss: 0.3332 - accuracy: 0.8500\n",
      "Epoch 44: val_accuracy did not improve from 0.83333\n",
      "20/20 [==============================] - 0s 5ms/step - loss: 0.3381 - accuracy: 0.8534 - val_loss: 0.6061 - val_accuracy: 0.7143\n",
      "Epoch 45/500\n",
      "15/20 [=====================>........] - ETA: 0s - loss: 0.3118 - accuracy: 0.8800\n",
      "Epoch 45: val_accuracy did not improve from 0.83333\n",
      "20/20 [==============================] - 0s 6ms/step - loss: 0.2694 - accuracy: 0.9005 - val_loss: 0.6107 - val_accuracy: 0.7381\n",
      "Epoch 46/500\n",
      "15/20 [=====================>........] - ETA: 0s - loss: 0.3259 - accuracy: 0.8733\n",
      "Epoch 46: val_accuracy did not improve from 0.83333\n",
      "20/20 [==============================] - 0s 6ms/step - loss: 0.3209 - accuracy: 0.8848 - val_loss: 0.6225 - val_accuracy: 0.7381\n",
      "Epoch 47/500\n",
      "17/20 [========================>.....] - ETA: 0s - loss: 0.3724 - accuracy: 0.8471\n",
      "Epoch 47: val_accuracy did not improve from 0.83333\n",
      "20/20 [==============================] - 0s 5ms/step - loss: 0.3629 - accuracy: 0.8534 - val_loss: 0.6516 - val_accuracy: 0.7143\n",
      "Epoch 48/500\n",
      "16/20 [=======================>......] - ETA: 0s - loss: 0.3688 - accuracy: 0.8375\n",
      "Epoch 48: val_accuracy did not improve from 0.83333\n",
      "20/20 [==============================] - 0s 5ms/step - loss: 0.3473 - accuracy: 0.8534 - val_loss: 0.6304 - val_accuracy: 0.7381\n",
      "Epoch 49/500\n",
      "17/20 [========================>.....] - ETA: 0s - loss: 0.3649 - accuracy: 0.8235\n",
      "Epoch 49: val_accuracy did not improve from 0.83333\n",
      "20/20 [==============================] - 0s 5ms/step - loss: 0.3724 - accuracy: 0.8220 - val_loss: 0.7097 - val_accuracy: 0.6667\n",
      "Epoch 50/500\n",
      "15/20 [=====================>........] - ETA: 0s - loss: 0.2980 - accuracy: 0.8533\n",
      "Epoch 50: val_accuracy did not improve from 0.83333\n",
      "20/20 [==============================] - 0s 5ms/step - loss: 0.3206 - accuracy: 0.8429 - val_loss: 0.6669 - val_accuracy: 0.7143\n",
      "Epoch 51/500\n",
      "16/20 [=======================>......] - ETA: 0s - loss: 0.3555 - accuracy: 0.8500\n",
      "Epoch 51: val_accuracy did not improve from 0.83333\n",
      "20/20 [==============================] - 0s 6ms/step - loss: 0.3404 - accuracy: 0.8586 - val_loss: 0.6917 - val_accuracy: 0.7143\n",
      "Epoch 52/500\n",
      "15/20 [=====================>........] - ETA: 0s - loss: 0.3372 - accuracy: 0.8533\n",
      "Epoch 52: val_accuracy did not improve from 0.83333\n",
      "20/20 [==============================] - 0s 6ms/step - loss: 0.3347 - accuracy: 0.8482 - val_loss: 0.6651 - val_accuracy: 0.7143\n",
      "Epoch 53/500\n",
      "16/20 [=======================>......] - ETA: 0s - loss: 0.3595 - accuracy: 0.8188\n",
      "Epoch 53: val_accuracy did not improve from 0.83333\n",
      "20/20 [==============================] - 0s 5ms/step - loss: 0.3617 - accuracy: 0.8220 - val_loss: 0.6615 - val_accuracy: 0.6667\n",
      "Epoch 54/500\n",
      "15/20 [=====================>........] - ETA: 0s - loss: 0.2437 - accuracy: 0.9067\n",
      "Epoch 54: val_accuracy did not improve from 0.83333\n",
      "20/20 [==============================] - 0s 6ms/step - loss: 0.2548 - accuracy: 0.9058 - val_loss: 0.6681 - val_accuracy: 0.6905\n",
      "Epoch 55/500\n",
      "15/20 [=====================>........] - ETA: 0s - loss: 0.3493 - accuracy: 0.8400\n",
      "Epoch 55: val_accuracy did not improve from 0.83333\n",
      "20/20 [==============================] - 0s 6ms/step - loss: 0.3434 - accuracy: 0.8482 - val_loss: 0.6472 - val_accuracy: 0.7143\n",
      "Epoch 56/500\n",
      "16/20 [=======================>......] - ETA: 0s - loss: 0.3086 - accuracy: 0.8687\n",
      "Epoch 56: val_accuracy did not improve from 0.83333\n",
      "20/20 [==============================] - 0s 5ms/step - loss: 0.3007 - accuracy: 0.8691 - val_loss: 0.6712 - val_accuracy: 0.6905\n",
      "Epoch 57/500\n",
      "17/20 [========================>.....] - ETA: 0s - loss: 0.3599 - accuracy: 0.8353\n",
      "Epoch 57: val_accuracy did not improve from 0.83333\n",
      "20/20 [==============================] - 0s 5ms/step - loss: 0.3525 - accuracy: 0.8429 - val_loss: 0.6423 - val_accuracy: 0.6905\n",
      "Epoch 58/500\n",
      "15/20 [=====================>........] - ETA: 0s - loss: 0.3027 - accuracy: 0.8867\n",
      "Epoch 58: val_accuracy did not improve from 0.83333\n",
      "20/20 [==============================] - 0s 5ms/step - loss: 0.3049 - accuracy: 0.8848 - val_loss: 0.6403 - val_accuracy: 0.7143\n",
      "Epoch 59/500\n",
      "17/20 [========================>.....] - ETA: 0s - loss: 0.3558 - accuracy: 0.8529\n",
      "Epoch 59: val_accuracy did not improve from 0.83333\n",
      "20/20 [==============================] - 0s 5ms/step - loss: 0.3360 - accuracy: 0.8639 - val_loss: 0.6581 - val_accuracy: 0.6905\n"
     ]
    },
    {
     "name": "stdout",
     "output_type": "stream",
     "text": [
      "Epoch 60/500\n",
      "16/20 [=======================>......] - ETA: 0s - loss: 0.3152 - accuracy: 0.8438\n",
      "Epoch 60: val_accuracy did not improve from 0.83333\n",
      "20/20 [==============================] - 0s 5ms/step - loss: 0.3096 - accuracy: 0.8534 - val_loss: 0.6819 - val_accuracy: 0.6905\n",
      "Epoch 61/500\n",
      "16/20 [=======================>......] - ETA: 0s - loss: 0.2527 - accuracy: 0.9187\n",
      "Epoch 61: val_accuracy did not improve from 0.83333\n",
      "20/20 [==============================] - 0s 5ms/step - loss: 0.2482 - accuracy: 0.9215 - val_loss: 0.7090 - val_accuracy: 0.7143\n",
      "Epoch 62/500\n",
      "15/20 [=====================>........] - ETA: 0s - loss: 0.2710 - accuracy: 0.8600\n",
      "Epoch 62: val_accuracy did not improve from 0.83333\n",
      "20/20 [==============================] - 0s 5ms/step - loss: 0.2915 - accuracy: 0.8586 - val_loss: 0.7052 - val_accuracy: 0.6905\n",
      "Epoch 63/500\n",
      "15/20 [=====================>........] - ETA: 0s - loss: 0.3100 - accuracy: 0.8733\n",
      "Epoch 63: val_accuracy did not improve from 0.83333\n",
      "20/20 [==============================] - 0s 6ms/step - loss: 0.3061 - accuracy: 0.8743 - val_loss: 0.7132 - val_accuracy: 0.6905\n",
      "Epoch 64/500\n",
      "16/20 [=======================>......] - ETA: 0s - loss: 0.2340 - accuracy: 0.9062\n",
      "Epoch 64: val_accuracy did not improve from 0.83333\n",
      "20/20 [==============================] - 0s 5ms/step - loss: 0.2294 - accuracy: 0.9110 - val_loss: 0.7148 - val_accuracy: 0.6905\n",
      "Epoch 64: early stopping\n"
     ]
    }
   ],
   "source": [
    "\n",
    "history = model.fit(X_train, y_train,\n",
    "              batch_size=10,\n",
    "              verbose=1,\n",
    "              epochs=500,\n",
    "              validation_data = (X_val,y_val), \n",
    "              callbacks = [es,model_checkpoint]\n",
    "                   )"
   ]
  },
  {
   "cell_type": "code",
   "execution_count": 9,
   "id": "131dbfd7",
   "metadata": {},
   "outputs": [
    {
     "name": "stdout",
     "output_type": "stream",
     "text": [
      "2/2 [==============================] - 0s 9ms/step - loss: 0.5750 - accuracy: 0.7805\n"
     ]
    },
    {
     "data": {
      "text/plain": [
       "[0.5750277042388916, 0.7804877758026123]"
      ]
     },
     "execution_count": 9,
     "metadata": {},
     "output_type": "execute_result"
    }
   ],
   "source": [
    "#test model\n",
    "testmodel = tf.keras.models.load_model(\"alaarg_oct9_check.h5\")\n",
    "testmodel.evaluate(X_test,y_test)"
   ]
  },
  {
   "cell_type": "code",
   "execution_count": 10,
   "id": "a85ce359",
   "metadata": {},
   "outputs": [
    {
     "name": "stdout",
     "output_type": "stream",
     "text": [
      "2/2 [==============================] - 0s 3ms/step - loss: 0.5278 - accuracy: 0.8333\n"
     ]
    },
    {
     "data": {
      "text/plain": [
       "[0.5277988910675049, 0.8333333134651184]"
      ]
     },
     "execution_count": 10,
     "metadata": {},
     "output_type": "execute_result"
    }
   ],
   "source": [
    "#test model\n",
    "testmodel1 = tf.keras.models.load_model(\"alaarg_oct9_check.h5\")\n",
    "testmodel1.evaluate(X_val,y_val)"
   ]
  },
  {
   "cell_type": "code",
   "execution_count": 11,
   "id": "14fedbbf",
   "metadata": {},
   "outputs": [
    {
     "name": "stdout",
     "output_type": "stream",
     "text": [
      "6/6 [==============================] - 0s 3ms/step - loss: 0.3992 - accuracy: 0.8639\n"
     ]
    },
    {
     "data": {
      "text/plain": [
       "[0.39916911721229553, 0.8638743162155151]"
      ]
     },
     "execution_count": 11,
     "metadata": {},
     "output_type": "execute_result"
    }
   ],
   "source": [
    "#test model\n",
    "testmodel1 = tf.keras.models.load_model(\"alaarg_oct9_check.h5\")\n",
    "testmodel1.evaluate(X_train,y_train)"
   ]
  },
  {
   "cell_type": "code",
   "execution_count": 14,
   "id": "1331fafa",
   "metadata": {},
   "outputs": [
    {
     "name": "stdout",
     "output_type": "stream",
     "text": [
      "2/2 [==============================] - 0s 2ms/step\n"
     ]
    },
    {
     "data": {
      "text/plain": [
       "array([0.85      , 0.76190476])"
      ]
     },
     "execution_count": 14,
     "metadata": {},
     "output_type": "execute_result"
    }
   ],
   "source": [
    "y=testmodel.predict(X_test)\n",
    "#class-wise accuracy\n",
    "from sklearn.metrics import confusion_matrix\n",
    "matrix = confusion_matrix(y_test.to_numpy().argmax(axis=1), y.argmax(axis=1))\n",
    "matrix.diagonal()/matrix.sum(axis=1)"
   ]
  },
  {
   "cell_type": "code",
   "execution_count": null,
   "id": "0a076977",
   "metadata": {},
   "outputs": [],
   "source": []
  }
 ],
 "metadata": {
  "kernelspec": {
   "display_name": "Python [conda env:ridhanya-yolo] *",
   "language": "python",
   "name": "conda-env-ridhanya-yolo-py"
  },
  "language_info": {
   "codemirror_mode": {
    "name": "ipython",
    "version": 3
   },
   "file_extension": ".py",
   "mimetype": "text/x-python",
   "name": "python",
   "nbconvert_exporter": "python",
   "pygments_lexer": "ipython3",
   "version": "3.10.6"
  }
 },
 "nbformat": 4,
 "nbformat_minor": 5
}
